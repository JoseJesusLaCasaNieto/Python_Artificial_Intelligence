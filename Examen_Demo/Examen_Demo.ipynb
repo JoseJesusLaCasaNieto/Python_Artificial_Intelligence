{
 "cells": [
  {
   "cell_type": "markdown",
   "metadata": {},
   "source": [
    "<h1 style = \"font-size:3rem;color:orange\">Examen Demo</h1>"
   ]
  },
  {
   "cell_type": "markdown",
   "metadata": {},
   "source": [
    "Librerías"
   ]
  },
  {
   "cell_type": "code",
   "execution_count": 11,
   "metadata": {},
   "outputs": [],
   "source": [
    "# Librerías\n",
    "import numpy as np\n",
    "import pandas as pd\n",
    "from functools import reduce\n",
    "import math\n"
   ]
  },
  {
   "cell_type": "markdown",
   "metadata": {},
   "source": [
    "## 01\n",
    "- La serie de Fibonacci es una sucesión de números, en la cual cada número es la suma de los dos anteriores. Los dos primeros son siempre 0 y 1.\n",
    "  - $F_0 = 0$\n",
    "  - $F_1 = 1$\n",
    "  - $F_n = F_{n-1} + F_{n-2}$\n",
    "- Crear una serie de Fibonacci hasta un número *n* usando una función lambda."
   ]
  },
  {
   "cell_type": "code",
   "execution_count": 14,
   "metadata": {},
   "outputs": [],
   "source": [
    "def fibonacci_lambda(count):\n",
    "    fib_list = [0, 1]\n",
    "    any(map(lambda _: fib_list.append(sum(fib_list[-2:])),\n",
    "                                         range(2, count)))\n",
    "    return fib_list[:count]"
   ]
  },
  {
   "cell_type": "code",
   "execution_count": 15,
   "metadata": {},
   "outputs": [
    {
     "name": "stdout",
     "output_type": "stream",
     "text": [
      "[0, 1, 1, 2, 3, 5, 8, 13, 21, 34, 55, 89, 144, 233, 377, 610, 987, 1597]\n"
     ]
    }
   ],
   "source": [
    "expected_fibo_serie = [0,1,1,2,3,5,8,13,21,34,55,89,144,233,377,610,987,1597]\n",
    "fibo_serie = fibonacci_lambda(len(expected_fibo_serie))  # This calls your lambda function fibonacci_lambda\n",
    "print(fibo_serie)\n",
    "assert(expected_fibo_serie == fibo_serie)  # This will fail if the serie is not correct"
   ]
  },
  {
   "cell_type": "markdown",
   "metadata": {},
   "source": [
    "## 02\n",
    "\n",
    "- Crear una función que reciba un array de NumPy y devuelva otro en el cual estén marcados como True los elementos duplicados (a partir de la segunda ocurrencia), y como False los no repetidos o las primeras ocurrencias de los duplicados."
   ]
  },
  {
   "cell_type": "code",
   "execution_count": 5,
   "metadata": {},
   "outputs": [],
   "source": [
    "def find_duplicates(array):\n",
    "    serie = pd.Series(array)\n",
    "    duplicated_mask = serie.duplicated(keep='first')\n",
    "    return duplicated_mask"
   ]
  },
  {
   "cell_type": "code",
   "execution_count": 9,
   "metadata": {},
   "outputs": [],
   "source": [
    "def find_duplicates_2(array):\n",
    "    result = np.full(array.shape[0], True)\n",
    "    unique_positions = np.unique(array, return_index=True)[1]\n",
    "    result[unique_positions] = False\n",
    "    return result"
   ]
  },
  {
   "cell_type": "code",
   "execution_count": 10,
   "metadata": {},
   "outputs": [
    {
     "name": "stdout",
     "output_type": "stream",
     "text": [
      "[False  True  True False False False False False  True False  True  True\n",
      " False False]\n"
     ]
    }
   ],
   "source": [
    "numbers = np.array([4, 4, 4, 3, 8, 1, 9, 6, 1, 5, 9, 4, 0, 2])\n",
    "expected_output = np.array([False, True, True, False, False, False, False, False, True, False, True, True, False, False])\n",
    "output = find_duplicates_2(numbers)   # This calls your function find_duplicates\n",
    "print(output)\n",
    "assert(np.array_equal(expected_output, output))  # This will fail if the result is not as expected"
   ]
  },
  {
   "cell_type": "markdown",
   "metadata": {},
   "source": [
    "## 03\n",
    "\n",
    "- Resolución de dos sistemas de ecuaciones\n",
    "    - $ A : \\begin{cases} -9x +  4y = 20 \\\\ -7y + 16x = 80                         \\end{cases}$\n",
    "    \n",
    "    - $ B : \\begin{cases} x - 2y + 3z = 7 \\\\ 2x + y + z = 4 \\\\ -3x + 2y -2z = -10 \\end{cases}$\n",
    "- Verifica por código los resultados"
   ]
  },
  {
   "cell_type": "code",
   "execution_count": 14,
   "metadata": {},
   "outputs": [
    {
     "name": "stdout",
     "output_type": "stream",
     "text": [
      "x = 460.0, y = 1040.0\n",
      "True\n",
      "True\n"
     ]
    }
   ],
   "source": [
    "A_a = np.array([[-9, 4], [16, -7]])\n",
    "A_b = np.array([20, 80])\n",
    "x, y = np.linalg.solve(A_a, A_b)\n",
    "print(f\"x = {x}, y = {y}\")\n",
    "\n",
    "print(math.isclose(-9*x + 4*y, 20))\n",
    "print(math.isclose(-7*y + 16*x, 80))"
   ]
  },
  {
   "cell_type": "code",
   "execution_count": 15,
   "metadata": {},
   "outputs": [],
   "source": [
    "assert([math.isclose(-9*x + 4*y, 20), math.isclose(16*x - 7*y, 80)] == [True, True])"
   ]
  },
  {
   "cell_type": "code",
   "execution_count": 16,
   "metadata": {},
   "outputs": [
    {
     "name": "stdout",
     "output_type": "stream",
     "text": [
      "x = 2.0, y = -0.9999999999999998, z = 1.0000000000000002\n",
      "True\n",
      "True\n",
      "True\n"
     ]
    }
   ],
   "source": [
    "B_a = np.array([[1, -2, 3], [2, 1, 1], [-3, 2, -2]])\n",
    "B_b = np.array([7, 4, -10])\n",
    "x, y, z = np.linalg.solve(B_a, B_b)\n",
    "print(f\"x = {x}, y = {y}, z = {z}\")\n",
    "\n",
    "print(math.isclose(x - 2*y + 3*z, 7))\n",
    "print(math.isclose(2*x + y + z, 4))\n",
    "print(math.isclose(-3*x + 2*y - 2*z, -10))"
   ]
  }
 ],
 "metadata": {
  "kernelspec": {
   "display_name": "piavenv",
   "language": "python",
   "name": "python3"
  },
  "language_info": {
   "codemirror_mode": {
    "name": "ipython",
    "version": 3
   },
   "file_extension": ".py",
   "mimetype": "text/x-python",
   "name": "python",
   "nbconvert_exporter": "python",
   "pygments_lexer": "ipython3",
   "version": "3.11.6"
  }
 },
 "nbformat": 4,
 "nbformat_minor": 2
}
