{
 "cells": [
  {
   "cell_type": "markdown",
   "metadata": {},
   "source": [
    "<h1 style = \"font-size:3rem;color:orange\">Examen Demo</h1>"
   ]
  },
  {
   "cell_type": "markdown",
   "metadata": {},
   "source": [
    "Librerías"
   ]
  },
  {
   "cell_type": "code",
   "execution_count": 7,
   "metadata": {},
   "outputs": [],
   "source": [
    "# Librerías\n",
    "import numpy as np\n",
    "import pandas as pd\n",
    "from functools import reduce\n"
   ]
  },
  {
   "cell_type": "markdown",
   "metadata": {},
   "source": [
    "## 01\n",
    "- La serie de Fibonacci es una sucesión de números, en la cual cada número es la suma de los dos anteriores. Los dos primeros son siempre 0 y 1.\n",
    "  - $F_0 = 0$\n",
    "  - $F_1 = 1$\n",
    "  - $F_n = F_{n-1} + F_{n-2}$\n",
    "- Crear una serie de Fibonacci hasta un número *n* usando una función lambda."
   ]
  },
  {
   "cell_type": "code",
   "execution_count": 14,
   "metadata": {},
   "outputs": [],
   "source": [
    "def fibonacci_lambda(count):\n",
    "    fib_list = [0, 1]\n",
    "    any(map(lambda _: fib_list.append(sum(fib_list[-2:])),\n",
    "                                         range(2, count)))\n",
    "    return fib_list[:count]"
   ]
  },
  {
   "cell_type": "code",
   "execution_count": 15,
   "metadata": {},
   "outputs": [
    {
     "name": "stdout",
     "output_type": "stream",
     "text": [
      "[0, 1, 1, 2, 3, 5, 8, 13, 21, 34, 55, 89, 144, 233, 377, 610, 987, 1597]\n"
     ]
    }
   ],
   "source": [
    "expected_fibo_serie = [0,1,1,2,3,5,8,13,21,34,55,89,144,233,377,610,987,1597]\n",
    "fibo_serie = fibonacci_lambda(len(expected_fibo_serie))  # This calls your lambda function fibonacci_lambda\n",
    "print(fibo_serie)\n",
    "assert(expected_fibo_serie == fibo_serie)  # This will fail if the serie is not correct"
   ]
  }
 ],
 "metadata": {
  "kernelspec": {
   "display_name": "piavenv",
   "language": "python",
   "name": "python3"
  },
  "language_info": {
   "codemirror_mode": {
    "name": "ipython",
    "version": 3
   },
   "file_extension": ".py",
   "mimetype": "text/x-python",
   "name": "python",
   "nbconvert_exporter": "python",
   "pygments_lexer": "ipython3",
   "version": "3.11.6"
  }
 },
 "nbformat": 4,
 "nbformat_minor": 2
}
