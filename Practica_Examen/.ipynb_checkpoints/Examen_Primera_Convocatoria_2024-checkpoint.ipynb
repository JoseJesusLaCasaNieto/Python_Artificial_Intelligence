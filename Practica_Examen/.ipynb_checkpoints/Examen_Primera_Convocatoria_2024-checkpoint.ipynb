{
 "cells": [
  {
   "cell_type": "markdown",
   "metadata": {},
   "source": [
    "<h1 style = \"font-size:3rem;color:orange\">Examen primera convocatoria 2024</h1>"
   ]
  },
  {
   "cell_type": "markdown",
   "metadata": {},
   "source": [
    "Librerías"
   ]
  },
  {
   "cell_type": "code",
   "execution_count": 34,
   "metadata": {},
   "outputs": [],
   "source": [
    "# Your imports HERE !!!!\n",
    "import numpy as np\n",
    "import pandas as pd"
   ]
  },
  {
   "cell_type": "markdown",
   "metadata": {},
   "source": [
    "## 01 - 1.25pt\n",
    "\n",
    "- Crear un array de NumPy de dimensiones 5x5, con números enteros aleatorios en el rango [-40, 40]\n",
    "- Hacer los siguientes reemplazos en orden\n",
    "    - Reemplazar todos los valores multiplos de 3 por 1\n",
    "    - Reemplazar todos los valores pares positivos por 0\n",
    "    - Reemplazar todos los valores pares negativos por Nan\n",
    "- Averiguar cuantos elementos tienen Nan por fila"
   ]
  },
  {
   "cell_type": "code",
   "execution_count": 28,
   "metadata": {},
   "outputs": [
    {
     "name": "stdout",
     "output_type": "stream",
     "text": [
      "[[  4 -37 -19 -15   0]\n",
      " [ 38 -17 -35 -10   4]\n",
      " [-37 -34 -16  -7  19]\n",
      " [-20  -7 -18  37 -14]\n",
      " [  9  21  30  24  32]]\n",
      "\n",
      "[[  4 -37 -19   1   1]\n",
      " [ 38 -17 -35 -10   4]\n",
      " [-37 -34 -16  -7  19]\n",
      " [-20  -7   1  37 -14]\n",
      " [  1   1   1   1  32]]\n",
      "\n",
      "[[  0 -37 -19   1   1]\n",
      " [  0 -17 -35 -10   0]\n",
      " [-37 -34 -16  -7  19]\n",
      " [-20  -7   1  37 -14]\n",
      " [  1   1   1   1   0]]\n",
      "\n",
      "[[  0. -37. -19.   1.   1.]\n",
      " [  0. -17. -35.  nan   0.]\n",
      " [-37.  nan  nan  -7.  19.]\n",
      " [ nan  -7.   1.  37.  nan]\n",
      " [  1.   1.   1.   1.   0.]]\n",
      "\n",
      "Elementos NaN por fila: [0 1 2 2 0]\n"
     ]
    }
   ],
   "source": [
    "# Your solution HERE !!!!\n",
    "arr = np.random.randint(-40, 41, size=(5, 5))\n",
    "print(arr)\n",
    "\n",
    "arr = np.where(arr % 3 == 0, 1, arr)\n",
    "print()\n",
    "print(arr)\n",
    "\n",
    "# Opción 2\n",
    "# arr[arr % 3 == 0] = 1\n",
    "# print(arr)\n",
    "\n",
    "arr = np.where((arr > 0) & (arr % 2 == 0), 0, arr)\n",
    "print()\n",
    "print(arr)\n",
    "\n",
    "# Opción 2\n",
    "# arr[(arr > 0) & (arr % 2 == 0)] = 0\n",
    "# print(arr)\n",
    "\n",
    "arr = np.where((arr < 0) & (arr % 2 == 0), np.nan, arr)\n",
    "print()\n",
    "print(arr)\n",
    "\n",
    "print(f\"\\nElementos NaN por fila: {np.isnan(arr).sum(axis=1)}\")"
   ]
  },
  {
   "cell_type": "markdown",
   "metadata": {},
   "source": [
    "## 02 - 1.25pt\n",
    "\n",
    "- Escribir un generador que genere todos los factores de un número. Un factor es un número natural que puede dividir exactamente a otro número."
   ]
  },
  {
   "cell_type": "code",
   "execution_count": 29,
   "metadata": {},
   "outputs": [],
   "source": [
    "# Your solution HERE !!!!\n",
    "def factor_generator(number):\n",
    "    for item in range(1, number + 1):\n",
    "        if number % item == 0:\n",
    "            yield item"
   ]
  },
  {
   "cell_type": "code",
   "execution_count": 30,
   "metadata": {},
   "outputs": [],
   "source": [
    "number = 1000\n",
    "expected_factors = [1, 2, 4, 5, 8, 10, 20, 25, 40, 50, 100, 125, 200, 250, 500, 1000]\n",
    "gen = factor_generator(number) # This calls tour function factor_generator\n",
    "output = [next(gen) for n in range(len(expected_factors))]\n",
    "assert(expected_factors == output)  # This will fail if the element is not found correctly"
   ]
  },
  {
   "cell_type": "markdown",
   "metadata": {},
   "source": [
    "## 03 - 1.25pt\n",
    "\n",
    "- Escribir una función que reciba un Dataframe, en la columna \"name\" convierta el primer carácter de cada nombre a mayúsculas."
   ]
  },
  {
   "cell_type": "code",
   "execution_count": 43,
   "metadata": {},
   "outputs": [],
   "source": [
    "# Your solution HERE !!!!\n",
    "def capitalize_name(df):\n",
    "    df['name'] = df['name'].apply(lambda x: x.capitalize())\n",
    "    return df\n",
    "\n",
    "# Opción 2\n",
    "def capitalize_name2(df):\n",
    "    df['name'] = df['name'].str.capitalize()\n",
    "    return df\n",
    "\n",
    "# Opción 3\n",
    "def capitalize_name3(df):\n",
    "    df['name'] = df['name'].str.title()\n",
    "    return df"
   ]
  },
  {
   "cell_type": "code",
   "execution_count": 44,
   "metadata": {},
   "outputs": [],
   "source": [
    "dataframe = pd.DataFrame({\n",
    "    'name': ['tamayo','tanjiro','inosuke', 'zenitsu', 'nezuko'],\n",
    "    'date_of_birth ': ['13/01/2002','18/03/1999','21/11/1998','10/10/2002','05/04/1997'],\n",
    "    'age': [18.5, 21.2, 22.5, 22, 23]\n",
    "})\n",
    "\n",
    "expected_dataframe = pd.DataFrame({\n",
    "    'name': ['Tamayo', 'Tanjiro', 'Inosuke', 'Zenitsu', 'Nezuko'],\n",
    "    'date_of_birth ': ['13/01/2002','18/03/1999','21/11/1998','10/10/2002','05/04/1997'],\n",
    "    'age': [18.5, 21.2, 22.5, 22, 23]\n",
    "})\n",
    "\n",
    "output = capitalize_name(dataframe) # This calls your function capitalize_name\n",
    "assert(expected_dataframe.equals(output)) # This will fail if result is not as expected"
   ]
  },
  {
   "cell_type": "markdown",
   "metadata": {},
   "source": [
    "## 04 - 1.25pt\n",
    "\n",
    "- 200 personas hacen una review de una película, dándole una puntuación de 0.0 a 5.0 a dicha película\n",
    "- Crear una lista aleatoria con las posibles puntuaciones, es decir, 200 puntuaciones entre 0.0 y 5.0\n",
    "- Discretizar dichas puntuaciones en 4 categorias [muy mala, mala, buena, excelente], los límites de cada categoría son a libre elección\n",
    "- Discretizar dichas puntuaciones en 5 categorías distribuidas con rangos homogéneos (similar cantidad de valores en cada categoría)\n",
    "- Mostrar las categorías creadas y cuantos elementos hay en cada una de ellas"
   ]
  },
  {
   "cell_type": "code",
   "execution_count": 60,
   "metadata": {},
   "outputs": [
    {
     "name": "stdout",
     "output_type": "stream",
     "text": [
      "Reviews:\n",
      "[3.  1.  3.5 4.6 1.3 1.7 3.1 3.9 3.7 2.5 3.6 4.3 0.8 2.8 2.5 3.9 0.8 3.4\n",
      " 4.7 1.3 1.5 2.6 1.4 3.5 4.2 2.  1.9 1.3 1.1 5.  0.5 1.8 4.5 4.7 4.4 4.2\n",
      " 0.  0.2 3.5 4.8 2.8 4.8 4.7 0.9 2.3 1.6 3.6 3.3 2.4 1.2 3.6 4.5 2.2 4.2\n",
      " 3.2 0.9 3.4 0.5 1.  5.  2.6 0.2 0.5 2.8 1.3 3.9 0.7 2.9 5.  1.7 0.1 0.4\n",
      " 2.5 0.7 3.7 4.8 1.6 3.2 4.7 4.6 3.1 4.8 2.2 1.  3.4 3.7 2.6 4.9 2.1 2.5\n",
      " 4.9 0.  2.2 3.2 2.3 4.1 2.4 2.7 0.  2.4 1.7 2.7 2.5 4.1 3.4 1.6 3.  1.2\n",
      " 3.8 2.  0.2 0.1 5.  0.6 3.2 1.8 0.9 1.4 2.2 1.8 1.6 4.5 4.4 4.6 2.1 0.2\n",
      " 1.7 4.9 3.  0.7 4.8 1.9 3.3 2.7 1.4 2.8 3.8 4.8 0.9 2.2 3.5 0.3 0.  3.3\n",
      " 3.7 3.4 1.4 0.8 4.  3.  0.4 0.6 2.2 2.  4.  2.7 3.  5.  3.8 0.7 3.6 3.8\n",
      " 3.1 0.2 4.4 2.4 3.9 4.4 3.  0.4 2.6 3.1 4.1 2.1 4.8 4.2 4.7 0.1 2.2 1.3\n",
      " 2.2 1.1 2.3 3.2 1.4 3.2 4.  4.7 0.  4.7 4.1 0.7 4.1 4.6 3.5 2.2 1.2 3.6\n",
      " 4.1 2.7]\n",
      "\n",
      "very_bad: [1.0, 0.8, 0.8, 0.5, 0.0, 0.2, 0.9, 0.9, 0.5, 1.0, 0.2, 0.5, 0.7, 0.1, 0.4, 0.7, 1.0, 0.0, 0.0, 0.2, 0.1, 0.6, 0.9, 0.2, 0.7, 0.9, 0.3, 0.0, 0.8, 0.4, 0.6, 0.7, 0.2, 0.4, 0.1, 0.0, 0.7]\n",
      "bad: [1.3, 1.7, 2.5, 2.5, 1.3, 1.5, 1.4, 2.0, 1.9, 1.3, 1.1, 1.8, 2.3, 1.6, 2.4, 1.2, 2.2, 1.3, 1.7, 2.5, 1.6, 2.2, 2.1, 2.5, 2.2, 2.3, 2.4, 2.4, 1.7, 2.5, 1.6, 1.2, 2.0, 1.8, 1.4, 2.2, 1.8, 1.6, 2.1, 1.7, 1.9, 1.4, 2.2, 1.4, 2.2, 2.0, 2.4, 2.1, 2.2, 1.3, 2.2, 1.1, 2.3, 1.4, 2.2, 1.2]\n",
      "good: [3.0, 3.5, 3.1, 3.9, 3.7, 3.6, 2.8, 3.9, 3.4, 2.6, 3.5, 3.5, 2.8, 3.6, 3.3, 3.6, 3.2, 3.4, 2.6, 2.8, 3.9, 2.9, 3.7, 3.2, 3.1, 3.4, 3.7, 2.6, 3.2, 2.7, 2.7, 3.4, 3.0, 3.8, 3.2, 3.0, 3.3, 2.7, 2.8, 3.8, 3.5, 3.3, 3.7, 3.4, 4.0, 3.0, 4.0, 2.7, 3.0, 3.8, 3.6, 3.8, 3.1, 3.9, 3.0, 2.6, 3.1, 3.2, 3.2, 4.0, 3.5, 3.6, 2.7]\n",
      "supreme: [4.6, 4.3, 4.7, 4.2, 5.0, 4.5, 4.7, 4.4, 4.2, 4.8, 4.8, 4.7, 4.5, 4.2, 5.0, 5.0, 4.8, 4.7, 4.6, 4.8, 4.9, 4.9, 4.1, 4.1, 5.0, 4.5, 4.4, 4.6, 4.9, 4.8, 4.8, 5.0, 4.4, 4.4, 4.1, 4.8, 4.2, 4.7, 4.7, 4.7, 4.1, 4.1, 4.6, 4.1]\n",
      "\n",
      "Category 1    37\n",
      "Category 2    32\n",
      "Category 3    44\n",
      "Category 4    43\n",
      "Category 5    44\n",
      "Name: count, dtype: int64\n",
      "\n",
      "Primera categoría:\n",
      "very_bad: 37\n",
      "bad: 56\n",
      "good: 63\n",
      "supreme: 44\n",
      "\n",
      "Segunda categoría:\n",
      "Category 1    37\n",
      "Category 2    32\n",
      "Category 3    44\n",
      "Category 4    43\n",
      "Category 5    44\n",
      "Name: count, dtype: int64\n"
     ]
    }
   ],
   "source": [
    "# Your solution HERE !!!!\n",
    "# Lista aleatoria de 200 puntuaciones entre 0.0 y 5.0\n",
    "review_lst = np.random.randint(0, 51, 200)\n",
    "review_lst = review_lst / 10\n",
    "print(\"Reviews:\\n{}\\n\".format(review_lst))\n",
    "\n",
    "# Discretización de los valores en distintas categorías\n",
    "limits = [1, 2.5, 4]\n",
    "category_lst = ['very_bad', 'bad', 'good', 'supreme']\n",
    "categories_dct = {category: [] for category in category_lst}\n",
    "\n",
    "for item in review_lst:\n",
    "    if item <= limits[0]:\n",
    "        categories_dct[category_lst[0]].append(item)\n",
    "    elif item > limits[0] and item <= limits[1]:\n",
    "        categories_dct[category_lst[1]].append(item)\n",
    "    elif item > limits[1] and item <= limits[2]:\n",
    "        categories_dct[category_lst[2]].append(item)\n",
    "    else:\n",
    "        categories_dct[category_lst[3]].append(item)\n",
    "\n",
    "for category, reviews in categories_dct.items():\n",
    "    print(f\"{category}: {reviews}\")\n",
    "\n",
    "# Discretización de los valores en 5 rangos homogéneos\n",
    "cut_categories = pd.cut(review_lst, 5, labels=['Category 1', 'Category 2', 'Category 3', 'Category 4', 'Category 5'])\n",
    "print(\"\\n{}\".format(cut_categories.value_counts()))\n",
    "\n",
    "# Opción 2\n",
    "# qcut_categories = pd.cut(review_lst, 5, labels=['Category 1', 'Category 2', 'Category 3', 'Category 4', 'Category 5'])\n",
    "# print(\"\\n{}\".format(qcut_categories.value_counts()))\n",
    "\n",
    "# Muestra de las categorías creadas\n",
    "print(\"\\nPrimera categoría:\")\n",
    "for category, reviews in categories_dct.items():\n",
    "    print(f\"{category}: {len(reviews)}\")\n",
    "\n",
    "print(\"\\nSegunda categoría:\")\n",
    "print(\"{}\".format(cut_categories.value_counts()))"
   ]
  },
  {
   "cell_type": "markdown",
   "metadata": {},
   "source": [
    "## 05 - 5pt\n",
    "\n",
    "Se dispone de dos conjuntos de datos, ambos datasets se adjuntan en la pregunta del examen\n",
    "- [01MIAR_aircraft.csv](https://www.kaggle.com/datasets/dianaddx/aircraft-wildlife-strikes-1990-2023/): incidentes de avión.\n",
    "- [01MIAR_airports.csv](https://ourairports.com/data/): aeropuertos de todo el mundo, con el nombre y país de cada aeropuerto.\n",
    "\n",
    "1. Carga el fichero 01MIAR_aircraft.csv en un dataframe de Pandas y:\n",
    "    - Muestra las seis primeras filas.\n",
    "    - Calcula el porcentaje de valores nulos por columna.\n",
    "    - Muestra en una figura, con un tamaño de 8 de ancho y 4 de alto, una gráfica de tipo puntos (scatter), la localización de los incidentes en base a la longitud y latitud.\n",
    "    > Pista, descarta del df original los registros cuyos valores de latitud y longitud no se encuentren en el rango de coordenadas esféricas, siendo la longitud valida en el rango [-180, 180], y la latitud valida en el rango [-90, 90].\n",
    "    - Muestra en una figura un conteo de incidentes sobre la columna 'AIRCRAFT' por año, en el gráfico debe aparecer una columna por cada 'DAMAGE_LEVEL' distinto en el dataframe. La gráfica debe ser de tipo linea con diferentes subplots.\n",
    "    > Pista, agrupa primero y aplique una gráfica de relación.\n",
    "    \n",
    "2. Carga el fichero 01MIAR_airports.csv en un dataframe de Pandas y:\n",
    "    - Muestra el número de filas y columnas\n",
    "    - Cambia los valores a minúsculas de columna de nombre de aeropuerto en este dataframe y en el del apartado anterior.\n",
    "    - Con el propósito de disponer del país de los aeropuertos, junta ambos dataframes para obtener un nuevo dataframe con todos los registros de incidentes de avión y los países de los aeropuertos. Como clave, utilizar el nombre del aeropuerto modificado en el anterior apartado.\n",
    "    - Como resultado se debe disponer un dataframe con 254222 registros.\n",
    "    - Muestra el número de registros que no disponen de dato en el atributo \"iso_country\".\n",
    "    - Elimina todos los registros que que tengan nulos alguna de las columnas 'DAMAGE_LEVEL' y 'iso_country'.\n",
    "    - Sobre el resultado anterior, crea una tabla contando el número de incidentes por país, en las filas deben aparecer todos los paises posibles y en las columnas debe de estar el tipo de 'DAMAGE_LEVEL'."
   ]
  },
  {
   "cell_type": "code",
   "execution_count": 2,
   "metadata": {},
   "outputs": [],
   "source": [
    "# Your solution HERE !!!!\n"
   ]
  }
 ],
 "metadata": {
  "kernelspec": {
   "display_name": "Python 3 (ipykernel)",
   "language": "python",
   "name": "python3"
  },
  "language_info": {
   "codemirror_mode": {
    "name": "ipython",
    "version": 3
   },
   "file_extension": ".py",
   "mimetype": "text/x-python",
   "name": "python",
   "nbconvert_exporter": "python",
   "pygments_lexer": "ipython3",
   "version": "3.11.6"
  }
 },
 "nbformat": 4,
 "nbformat_minor": 4
}
