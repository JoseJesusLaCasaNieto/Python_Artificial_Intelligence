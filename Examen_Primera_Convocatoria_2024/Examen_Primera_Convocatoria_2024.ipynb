{
 "cells": [
  {
   "cell_type": "markdown",
   "metadata": {},
   "source": [
    "<h1 style = \"font-size:3rem;color:orange\">Examen primera convocatoria 2024</h1>"
   ]
  },
  {
   "cell_type": "markdown",
   "metadata": {},
   "source": [
    "Librerías"
   ]
  },
  {
   "cell_type": "code",
   "execution_count": 1,
   "metadata": {},
   "outputs": [
    {
     "name": "stderr",
     "output_type": "stream",
     "text": [
      "C:\\Users\\pepel\\AppData\\Local\\Temp\\ipykernel_16080\\3928729184.py:3: DeprecationWarning: \n",
      "Pyarrow will become a required dependency of pandas in the next major release of pandas (pandas 3.0),\n",
      "(to allow more performant data types, such as the Arrow string type, and better interoperability with other libraries)\n",
      "but was not found to be installed on your system.\n",
      "If this would cause problems for you,\n",
      "please provide us feedback at https://github.com/pandas-dev/pandas/issues/54466\n",
      "        \n",
      "  import pandas as pd\n"
     ]
    }
   ],
   "source": [
    "# Librerías\n",
    "import numpy as np\n",
    "import pandas as pd\n"
   ]
  },
  {
   "cell_type": "markdown",
   "metadata": {},
   "source": [
    "## 01 - 1.25pt\n",
    "\n",
    "- Crear un array de NumPy de dimensiones 5x5, con números enteros aleatorios en el rango [-40, 40]\n",
    "- Hacer los siguientes reemplazos en orden\n",
    "    - Reemplazar todos los valores multiplos de 3 por 1\n",
    "    - Reemplazar todos los valores pares positivos por 0\n",
    "    - Reemplazar todos los valores pares negativos por Nan\n",
    "- Averiguar cuantos elementos tienen Nan por fila"
   ]
  },
  {
   "cell_type": "code",
   "execution_count": 21,
   "metadata": {},
   "outputs": [
    {
     "name": "stdout",
     "output_type": "stream",
     "text": [
      "Array de números aleatorios:\n",
      "[[-21  -8  37 -20 -40]\n",
      " [ 18  -9  -3 -13  14]\n",
      " [-23 -32 -37 -24 -34]\n",
      " [  4  30 -31  -5  -6]\n",
      " [-25  33  -1  40 -40]]\n",
      "\n",
      "Reemplazo los múltiplos de 3 por 1:\n",
      "[[  1  -8  37 -20 -40]\n",
      " [  1   1   1 -13  14]\n",
      " [-23 -32 -37   1 -34]\n",
      " [  4   1 -31  -5   1]\n",
      " [-25   1  -1  40 -40]]\n",
      "\n",
      "Reemplazo los valores pares positivos por 0:\n",
      "[[  1  -8  37 -20 -40]\n",
      " [  1   1   1 -13   0]\n",
      " [-23 -32 -37   1 -34]\n",
      " [  0   1 -31  -5   1]\n",
      " [-25   1  -1   0 -40]]\n",
      "\n",
      "Reemplazo los valores pares negativos por Nan:\n",
      "[[  1.  nan  37.  nan  nan]\n",
      " [  1.   1.   1. -13.   0.]\n",
      " [-23.  nan -37.   1.  nan]\n",
      " [  0.   1. -31.  -5.   1.]\n",
      " [-25.   1.  -1.   0.  nan]]\n",
      "\n",
      "Elementos Nan por fila:\n",
      "[3 0 2 0 1]\n"
     ]
    }
   ],
   "source": [
    "# Array de números aleatorios de 5x5\n",
    "array = np.random.randint(-40, 41, size=(5, 5))\n",
    "print(\"Array de números aleatorios:\\n{}\".format(array))\n",
    "\n",
    "# Reemplazar los valores múltiplos de 3 por 1\n",
    "array = np.where(array % 3 == 0, 1, array)\n",
    "print(\"\\nReemplazo los múltiplos de 3 por 1:\\n{}\".format(array))\n",
    "\n",
    "# Reemplazar todos los valores pares positivos por 0\n",
    "array = np.where((array > 0) & (array % 2 == 0), 0, array)\n",
    "print(\"\\nReemplazo los valores pares positivos por 0:\\n{}\".format(array))\n",
    "\n",
    "# Reemplazar todos los valores pares negativos por Nan\n",
    "array = np.where((array < 0) & (array % 2 == 0), np.nan, array)\n",
    "print(\"\\nReemplazo los valores pares negativos por Nan:\\n{}\".format(array))\n",
    "\n",
    "# Elementos Nan por fila en el array\n",
    "row_nan = np.sum(np.isnan(array), axis=1)\n",
    "print(\"\\nElementos Nan por fila:\\n{}\".format(row_nan))"
   ]
  },
  {
   "cell_type": "markdown",
   "metadata": {},
   "source": [
    "## 02 - 1.25pt\n",
    "\n",
    "- Escribir un generador que genere todos los factores de un número. Un factor es un número natural que puede dividir exactamente a otro número."
   ]
  },
  {
   "cell_type": "code",
   "execution_count": 24,
   "metadata": {},
   "outputs": [],
   "source": [
    "# Your solution HERE !!!!\n",
    "def factor_generator(number):\n",
    "    for item in range(1, number + 1):\n",
    "        if number % item == 0:\n",
    "            yield item"
   ]
  },
  {
   "cell_type": "code",
   "execution_count": 27,
   "metadata": {},
   "outputs": [],
   "source": [
    "number = 1000\n",
    "expected_factors = [1, 2, 4, 5, 8, 10, 20, 25, 40, 50, 100, 125, 200, 250, 500, 1000]\n",
    "gen = factor_generator(number) # This calls tour function factor_generator\n",
    "output = [next(gen) for n in range(len(expected_factors))]\n",
    "assert(expected_factors == output)  # This will fail if the element is not found correctly"
   ]
  },
  {
   "cell_type": "markdown",
   "metadata": {},
   "source": [
    "## 03 - 1.25pt\n",
    "\n",
    "- Escribir una función que reciba un Dataframe, en la columna \"name\" convierta el primer carácter de cada nombre a mayúsculas."
   ]
  },
  {
   "cell_type": "code",
   "execution_count": 23,
   "metadata": {},
   "outputs": [],
   "source": [
    "# Opción 1\n",
    "def capitalize_name(dataframe):\n",
    "    dataframe['name'] = dataframe['name'].apply(lambda x: x.capitalize())\n",
    "    return dataframe\n",
    "\n",
    "# Opción 2\n",
    "def capitalize_name_2(dataframe):\n",
    "    dataframe['name'] = dataframe['name'].str.capitalize()\n",
    "    return dataframe\n",
    "\n",
    "# Opción 3\n",
    "def capitalize_name_3(dataframe):\n",
    "    dataframe['name'] = dataframe['name'].str.title()\n",
    "    return dataframe"
   ]
  },
  {
   "cell_type": "code",
   "execution_count": 24,
   "metadata": {},
   "outputs": [],
   "source": [
    "dataframe = pd.DataFrame({\n",
    "    'name': ['tamayo','tanjiro','inosuke', 'zenitsu', 'nezuko'],\n",
    "    'date_of_birth ': ['13/01/2002','18/03/1999','21/11/1998','10/10/2002','05/04/1997'],\n",
    "    'age': [18.5, 21.2, 22.5, 22, 23]\n",
    "})\n",
    "\n",
    "expected_dataframe = pd.DataFrame({\n",
    "    'name': ['Tamayo', 'Tanjiro', 'Inosuke', 'Zenitsu', 'Nezuko'],\n",
    "    'date_of_birth ': ['13/01/2002','18/03/1999','21/11/1998','10/10/2002','05/04/1997'],\n",
    "    'age': [18.5, 21.2, 22.5, 22, 23]\n",
    "})\n",
    "\n",
    "output = capitalize_name(dataframe) # This calls your function capitalize_name\n",
    "assert(expected_dataframe.equals(output)) # This will fail if result is not as expected"
   ]
  },
  {
   "cell_type": "markdown",
   "metadata": {},
   "source": [
    "## 04 - 1.25pt\n",
    "\n",
    "- 200 personas hacen una review de una película, dándole una puntuación de 0.0 a 5.0 a dicha película\n",
    "- Crear una lista aleatoria con las posibles puntuaciones, es decir, 200 puntuaciones entre 0.0 y 5.0\n",
    "- Discretizar dichas puntuaciones en 4 categorias [muy mala, mala, buena, excelente], los límites de cada categoría son a libre elección\n",
    "- Discretizar dichas puntuaciones en 5 categorías distribuidas con rangos homogéneos (similar cantidad de valores en cada categoría)\n",
    "- Mostrar las categorías creadas y cuantos elementos hay en cada una de ellas"
   ]
  },
  {
   "cell_type": "code",
   "execution_count": 59,
   "metadata": {},
   "outputs": [
    {
     "name": "stdout",
     "output_type": "stream",
     "text": [
      "Reviews:\n",
      "[0.1 0.5 2.9 4.  3.4 3.2 1.5 4.  3.8 2.4 3.6 2.6 2.  0.6 1.8 2.1 3.7 3.3\n",
      " 1.5 3.5 3.6 2.6 2.4 4.3 4.3 3.8 1.7 2.  4.5 1.8 5.  0.3 4.2 2.  1.6 2.8\n",
      " 0.  2.6 0.1 3.7 2.7 3.8 1.5 1.6 4.2 4.  1.4 0.6 4.5 4.7 3.9 3.4 1.4 4.5\n",
      " 4.9 2.4 1.4 2.8 1.8 2.1 3.2 3.9 0.  4.3 1.7 2.2 4.1 0.  0.4 0.8 3.5 3.2\n",
      " 2.4 0.7 0.3 0.6 1.6 2.2 3.3 1.9 2.  1.7 1.6 5.  2.1 0.3 1.1 1.8 0.4 3.5\n",
      " 3.6 4.7 2.2 4.6 4.8 0.9 0.8 4.1 1.  1.3 3.5 0.6 3.1 0.5 2.6 0.5 0.1 2.2\n",
      " 4.1 1.  1.6 4.1 0.3 3.3 0.7 3.7 0.7 5.  2.  4.5 3.5 4.9 1.3 3.4 0.3 3.7\n",
      " 1.1 3.5 3.2 2.8 1.7 4.1 3.4 2.1 4.  3.9 4.7 1.4 5.  4.9 0.  4.2 4.3 1.4\n",
      " 1.  2.8 2.5 0.9 1.4 2.2 2.8 0.5 2.9 5.  1.3 4.7 0.7 4.3 4.7 1.3 2.2 5.\n",
      " 2.2 2.6 3.9 2.6 1.5 4.  4.2 2.8 0.4 1.9 2.8 0.3 1.9 4.9 0.4 3.3 4.6 2.4\n",
      " 2.2 2.5 0.8 0.1 3.1 1.6 3.7 4.9 0.7 3.8 4.  3.6 1.3 2.2 4.7 3.7 1.4 3.5\n",
      " 2.8 1.6]\n",
      "\n",
      "very_bad: [0.1, 0.5, 0.6, 0.3, 0.0, 0.1, 0.6, 0.0, 0.0, 0.4, 0.8, 0.7, 0.3, 0.6, 0.3, 0.4, 0.9, 0.8, 1.0, 0.6, 0.5, 0.5, 0.1, 1.0, 0.3, 0.7, 0.7, 0.3, 0.0, 1.0, 0.9, 0.5, 0.7, 0.4, 0.3, 0.4, 0.8, 0.1, 0.7]\n",
      "bad: [1.5, 2.4, 2.0, 1.8, 2.1, 1.5, 2.4, 1.7, 2.0, 1.8, 2.0, 1.6, 1.5, 1.6, 1.4, 1.4, 2.4, 1.4, 1.8, 2.1, 1.7, 2.2, 2.4, 1.6, 2.2, 1.9, 2.0, 1.7, 1.6, 2.1, 1.1, 1.8, 2.2, 1.3, 2.2, 1.6, 2.0, 1.3, 1.1, 1.7, 2.1, 1.4, 1.4, 2.5, 1.4, 2.2, 1.3, 1.3, 2.2, 2.2, 1.5, 1.9, 1.9, 2.4, 2.2, 2.5, 1.6, 1.3, 2.2, 1.4, 1.6]\n",
      "good: [2.9, 4.0, 3.4, 3.2, 4.0, 3.8, 3.6, 2.6, 3.7, 3.3, 3.5, 3.6, 2.6, 3.8, 2.8, 2.6, 3.7, 2.7, 3.8, 4.0, 3.9, 3.4, 2.8, 3.2, 3.9, 3.5, 3.2, 3.3, 3.5, 3.6, 3.5, 3.1, 2.6, 3.3, 3.7, 3.5, 3.4, 3.7, 3.5, 3.2, 2.8, 3.4, 4.0, 3.9, 2.8, 2.8, 2.9, 2.6, 3.9, 2.6, 4.0, 2.8, 2.8, 3.3, 3.1, 3.7, 3.8, 4.0, 3.6, 3.7, 3.5, 2.8]\n",
      "supreme: [4.3, 4.3, 4.5, 5.0, 4.2, 4.2, 4.5, 4.7, 4.5, 4.9, 4.3, 4.1, 5.0, 4.7, 4.6, 4.8, 4.1, 4.1, 4.1, 5.0, 4.5, 4.9, 4.1, 4.7, 5.0, 4.9, 4.2, 4.3, 5.0, 4.7, 4.3, 4.7, 5.0, 4.2, 4.9, 4.6, 4.9, 4.7]\n",
      "\n",
      "Category 1    39\n",
      "Category 2    41\n",
      "Category 3    37\n",
      "Category 4    45\n",
      "Category 5    38\n",
      "Name: count, dtype: int64\n",
      "\n",
      "Category 1    39\n",
      "Category 2    41\n",
      "Category 3    37\n",
      "Category 4    45\n",
      "Category 5    38\n",
      "Name: count, dtype: int64\n"
     ]
    }
   ],
   "source": [
    "# Lista aleatoria de 200 puntuaciones entre 0.0 y 5.0\n",
    "review_lst = np.random.randint(0, 51, 200)\n",
    "review_lst = review_lst / 10\n",
    "print(\"Reviews:\\n{}\\n\".format(review_lst))\n",
    "\n",
    "# Discretización de los valores en distintas categorías\n",
    "limits = [1, 2.5, 4]\n",
    "category_lst = ['very_bad', 'bad', 'good', 'supreme']\n",
    "categories_dct = {category: [] for category in category_lst}\n",
    "\n",
    "for item in review_lst:\n",
    "    if item <= limits[0]:\n",
    "        categories_dct[category_lst[0]].append(item)\n",
    "    elif item > limits[0] and item <= limits[1]:\n",
    "        categories_dct[category_lst[1]].append(item)\n",
    "    elif item > limits[1] and item <= limits[2]:\n",
    "        categories_dct[category_lst[2]].append(item)\n",
    "    else:\n",
    "        categories_dct[category_lst[3]].append(item)\n",
    "\n",
    "for lst, reviews in categories_dct.items():\n",
    "    print(f\"{lst}: {reviews}\")\n",
    "\n",
    "# Discretización de los valores en 5 rangos homogéneos\n",
    "cut_categories = pd.cut(review_lst, 5, labels=['Category 1', 'Category 2', 'Category 3', 'Category 4', 'Category 5'])\n",
    "print(\"\\n{}\".format(cut_categories.value_counts()))\n",
    "\n",
    "qcut_categories = pd.cut(review_lst, 5, labels=['Category 1', 'Category 2', 'Category 3', 'Category 4', 'Category 5'])\n",
    "print(\"\\n{}\".format(qcut_categories.value_counts()))"
   ]
  }
 ],
 "metadata": {
  "kernelspec": {
   "display_name": "piavenv",
   "language": "python",
   "name": "python3"
  },
  "language_info": {
   "codemirror_mode": {
    "name": "ipython",
    "version": 3
   },
   "file_extension": ".py",
   "mimetype": "text/x-python",
   "name": "python",
   "nbconvert_exporter": "python",
   "pygments_lexer": "ipython3",
   "version": "3.11.6"
  }
 },
 "nbformat": 4,
 "nbformat_minor": 2
}
