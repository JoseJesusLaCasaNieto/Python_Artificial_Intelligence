{
 "cells": [
  {
   "cell_type": "markdown",
   "metadata": {},
   "source": [
    "<h1 style = \"font-size:3rem;color:orange\">Examen primera convocatoria 2024</h1>"
   ]
  },
  {
   "cell_type": "markdown",
   "metadata": {},
   "source": [
    "Librerías"
   ]
  },
  {
   "cell_type": "code",
   "execution_count": 2,
   "metadata": {},
   "outputs": [],
   "source": [
    "# Librerías\n",
    "import numpy as np\n",
    "import pandas as pd\n"
   ]
  },
  {
   "cell_type": "markdown",
   "metadata": {},
   "source": [
    "## 01 - 1.25pt\n",
    "\n",
    "- Crear un array de NumPy de dimensiones 5x5, con números enteros aleatorios en el rango [-40, 40]\n",
    "- Hacer los siguientes reemplazos en orden\n",
    "    - Reemplazar todos los valores multiplos de 3 por 1\n",
    "    - Reemplazar todos los valores pares positivos por 0\n",
    "    - Reemplazar todos los valores pares negativos por Nan\n",
    "- Averiguar cuantos elementos tienen Nan por fila"
   ]
  },
  {
   "cell_type": "code",
   "execution_count": 21,
   "metadata": {},
   "outputs": [
    {
     "name": "stdout",
     "output_type": "stream",
     "text": [
      "Array de números aleatorios:\n",
      "[[-21  -8  37 -20 -40]\n",
      " [ 18  -9  -3 -13  14]\n",
      " [-23 -32 -37 -24 -34]\n",
      " [  4  30 -31  -5  -6]\n",
      " [-25  33  -1  40 -40]]\n",
      "\n",
      "Reemplazo los múltiplos de 3 por 1:\n",
      "[[  1  -8  37 -20 -40]\n",
      " [  1   1   1 -13  14]\n",
      " [-23 -32 -37   1 -34]\n",
      " [  4   1 -31  -5   1]\n",
      " [-25   1  -1  40 -40]]\n",
      "\n",
      "Reemplazo los valores pares positivos por 0:\n",
      "[[  1  -8  37 -20 -40]\n",
      " [  1   1   1 -13   0]\n",
      " [-23 -32 -37   1 -34]\n",
      " [  0   1 -31  -5   1]\n",
      " [-25   1  -1   0 -40]]\n",
      "\n",
      "Reemplazo los valores pares negativos por Nan:\n",
      "[[  1.  nan  37.  nan  nan]\n",
      " [  1.   1.   1. -13.   0.]\n",
      " [-23.  nan -37.   1.  nan]\n",
      " [  0.   1. -31.  -5.   1.]\n",
      " [-25.   1.  -1.   0.  nan]]\n",
      "\n",
      "Elementos Nan por fila:\n",
      "[3 0 2 0 1]\n"
     ]
    }
   ],
   "source": [
    "# Array de números aleatorios de 5x5\n",
    "array = np.random.randint(-40, 41, size=(5, 5))\n",
    "print(\"Array de números aleatorios:\\n{}\".format(array))\n",
    "\n",
    "# Reemplazar los valores múltiplos de 3 por 1\n",
    "array = np.where(array % 3 == 0, 1, array)\n",
    "print(\"\\nReemplazo los múltiplos de 3 por 1:\\n{}\".format(array))\n",
    "\n",
    "# Reemplazar todos los valores pares positivos por 0\n",
    "array = np.where((array > 0) & (array % 2 == 0), 0, array)\n",
    "print(\"\\nReemplazo los valores pares positivos por 0:\\n{}\".format(array))\n",
    "\n",
    "# Reemplazar todos los valores pares negativos por Nan\n",
    "array = np.where((array < 0) & (array % 2 == 0), np.nan, array)\n",
    "print(\"\\nReemplazo los valores pares negativos por Nan:\\n{}\".format(array))\n",
    "\n",
    "# Elementos Nan por fila en el array\n",
    "row_nan = np.sum(np.isnan(array), axis=1)\n",
    "print(\"\\nElementos Nan por fila:\\n{}\".format(row_nan))"
   ]
  },
  {
   "cell_type": "markdown",
   "metadata": {},
   "source": [
    "## 02 - 1.25pt\n",
    "\n",
    "- Escribir un generador que genere todos los factores de un número. Un factor es un número natural que puede dividir exactamente a otro número."
   ]
  },
  {
   "cell_type": "code",
   "execution_count": 24,
   "metadata": {},
   "outputs": [],
   "source": [
    "# Your solution HERE !!!!\n",
    "def factor_generator(number):\n",
    "    for item in range(1, number + 1):\n",
    "        if number % item == 0:\n",
    "            yield item"
   ]
  },
  {
   "cell_type": "code",
   "execution_count": 27,
   "metadata": {},
   "outputs": [],
   "source": [
    "number = 1000\n",
    "expected_factors = [1, 2, 4, 5, 8, 10, 20, 25, 40, 50, 100, 125, 200, 250, 500, 1000]\n",
    "gen = factor_generator(number) # This calls tour function factor_generator\n",
    "output = [next(gen) for n in range(len(expected_factors))]\n",
    "assert(expected_factors == output)  # This will fail if the element is not found correctly"
   ]
  },
  {
   "cell_type": "markdown",
   "metadata": {},
   "source": [
    "## 03 - 1.25pt\n",
    "\n",
    "- Escribir una función que reciba un Dataframe, en la columna \"name\" convierta el primer carácter de cada nombre a mayúsculas."
   ]
  },
  {
   "cell_type": "code",
   "execution_count": 23,
   "metadata": {},
   "outputs": [],
   "source": [
    "# Opción 1\n",
    "def capitalize_name(dataframe):\n",
    "    dataframe['name'] = dataframe['name'].apply(lambda x: x.capitalize())\n",
    "    return dataframe\n",
    "\n",
    "# Opción 2\n",
    "def capitalize_name_2(dataframe):\n",
    "    dataframe['name'] = dataframe['name'].str.capitalize()\n",
    "    return dataframe\n",
    "\n",
    "# Opción 3\n",
    "def capitalize_name_3(dataframe):\n",
    "    dataframe['name'] = dataframe['name'].str.title()\n",
    "    return dataframe"
   ]
  },
  {
   "cell_type": "code",
   "execution_count": 24,
   "metadata": {},
   "outputs": [],
   "source": [
    "dataframe = pd.DataFrame({\n",
    "    'name': ['tamayo','tanjiro','inosuke', 'zenitsu', 'nezuko'],\n",
    "    'date_of_birth ': ['13/01/2002','18/03/1999','21/11/1998','10/10/2002','05/04/1997'],\n",
    "    'age': [18.5, 21.2, 22.5, 22, 23]\n",
    "})\n",
    "\n",
    "expected_dataframe = pd.DataFrame({\n",
    "    'name': ['Tamayo', 'Tanjiro', 'Inosuke', 'Zenitsu', 'Nezuko'],\n",
    "    'date_of_birth ': ['13/01/2002','18/03/1999','21/11/1998','10/10/2002','05/04/1997'],\n",
    "    'age': [18.5, 21.2, 22.5, 22, 23]\n",
    "})\n",
    "\n",
    "output = capitalize_name(dataframe) # This calls your function capitalize_name\n",
    "assert(expected_dataframe.equals(output)) # This will fail if result is not as expected"
   ]
  },
  {
   "cell_type": "markdown",
   "metadata": {},
   "source": [
    "## 04 - 1.25pt\n",
    "\n",
    "- 200 personas hacen una review de una película, dándole una puntuación de 0.0 a 5.0 a dicha película\n",
    "- Crear una lista aleatoria con las posibles puntuaciones, es decir, 200 puntuaciones entre 0.0 y 5.0\n",
    "- Discretizar dichas puntuaciones en 4 categorias [muy mala, mala, buena, excelente], los límites de cada categoría son a libre elección\n",
    "- Discretizar dichas puntuaciones en 5 categorías distribuidas con rangos homogéneos (similar cantidad de valores en cada categoría)\n",
    "- Mostrar las categorías creadas y cuantos elementos hay en cada una de ellas"
   ]
  },
  {
   "cell_type": "code",
   "execution_count": null,
   "metadata": {},
   "outputs": [],
   "source": []
  }
 ],
 "metadata": {
  "kernelspec": {
   "display_name": "piavenv",
   "language": "python",
   "name": "python3"
  },
  "language_info": {
   "codemirror_mode": {
    "name": "ipython",
    "version": 3
   },
   "file_extension": ".py",
   "mimetype": "text/x-python",
   "name": "python",
   "nbconvert_exporter": "python",
   "pygments_lexer": "ipython3",
   "version": "3.11.6"
  }
 },
 "nbformat": 4,
 "nbformat_minor": 2
}
