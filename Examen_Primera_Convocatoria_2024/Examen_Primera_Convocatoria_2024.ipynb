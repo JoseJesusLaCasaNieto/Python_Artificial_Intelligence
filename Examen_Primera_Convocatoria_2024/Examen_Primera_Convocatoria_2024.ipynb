{
 "cells": [
  {
   "cell_type": "markdown",
   "metadata": {},
   "source": [
    "<h1 style = \"font-size:3rem;color:orange\">Examen primera convocatoria 2024</h1>"
   ]
  },
  {
   "cell_type": "markdown",
   "metadata": {},
   "source": [
    "Librerías"
   ]
  },
  {
   "cell_type": "code",
   "execution_count": 1,
   "metadata": {},
   "outputs": [],
   "source": [
    "# Librerías\n",
    "import numpy as np\n"
   ]
  },
  {
   "cell_type": "markdown",
   "metadata": {},
   "source": [
    "## 01 - 1.25pt\n",
    "\n",
    "- Crear un array de NumPy de dimensiones 5x5, con números enteros aleatorios en el rango [-40, 40]\n",
    "- Hacer los siguientes reemplazos en orden\n",
    "    - Reemplazar todos los valores multiplos de 3 por 1\n",
    "    - Reemplazar todos los valores pares positivos por 0\n",
    "    - Reemplazar todos los valores pares negativos por Nan\n",
    "- Averiguar cuantos elementos tienen Nan por fila"
   ]
  },
  {
   "cell_type": "code",
   "execution_count": 21,
   "metadata": {},
   "outputs": [
    {
     "name": "stdout",
     "output_type": "stream",
     "text": [
      "Array de números aleatorios:\n",
      "[[-21  -8  37 -20 -40]\n",
      " [ 18  -9  -3 -13  14]\n",
      " [-23 -32 -37 -24 -34]\n",
      " [  4  30 -31  -5  -6]\n",
      " [-25  33  -1  40 -40]]\n",
      "\n",
      "Reemplazo los múltiplos de 3 por 1:\n",
      "[[  1  -8  37 -20 -40]\n",
      " [  1   1   1 -13  14]\n",
      " [-23 -32 -37   1 -34]\n",
      " [  4   1 -31  -5   1]\n",
      " [-25   1  -1  40 -40]]\n",
      "\n",
      "Reemplazo los valores pares positivos por 0:\n",
      "[[  1  -8  37 -20 -40]\n",
      " [  1   1   1 -13   0]\n",
      " [-23 -32 -37   1 -34]\n",
      " [  0   1 -31  -5   1]\n",
      " [-25   1  -1   0 -40]]\n",
      "\n",
      "Reemplazo los valores pares negativos por Nan:\n",
      "[[  1.  nan  37.  nan  nan]\n",
      " [  1.   1.   1. -13.   0.]\n",
      " [-23.  nan -37.   1.  nan]\n",
      " [  0.   1. -31.  -5.   1.]\n",
      " [-25.   1.  -1.   0.  nan]]\n",
      "\n",
      "Elementos Nan por fila:\n",
      "[3 0 2 0 1]\n"
     ]
    }
   ],
   "source": [
    "# Array de números aleatorios de 5x5\n",
    "array = np.random.randint(-40, 41, size=(5, 5))\n",
    "print(\"Array de números aleatorios:\\n{}\".format(array))\n",
    "\n",
    "# Reemplazar los valores múltiplos de 3 por 1\n",
    "array = np.where(array % 3 == 0, 1, array)\n",
    "print(\"\\nReemplazo los múltiplos de 3 por 1:\\n{}\".format(array))\n",
    "\n",
    "# Reemplazar todos los valores pares positivos por 0\n",
    "array = np.where((array > 0) & (array % 2 == 0), 0, array)\n",
    "print(\"\\nReemplazo los valores pares positivos por 0:\\n{}\".format(array))\n",
    "\n",
    "# Reemplazar todos los valores pares negativos por Nan\n",
    "array = np.where((array < 0) & (array % 2 == 0), np.nan, array)\n",
    "print(\"\\nReemplazo los valores pares negativos por Nan:\\n{}\".format(array))\n",
    "\n",
    "# Elementos Nan por fila en el array\n",
    "row_nan = np.sum(np.isnan(array), axis=1)\n",
    "print(\"\\nElementos Nan por fila:\\n{}\".format(row_nan))"
   ]
  },
  {
   "cell_type": "markdown",
   "metadata": {},
   "source": [
    "## 02 - 1.25pt\n",
    "\n",
    "- Escribir un generador que genere todos los factores de un número. Un factor es un número natural que puede dividir exactamente a otro número."
   ]
  },
  {
   "cell_type": "code",
   "execution_count": 24,
   "metadata": {},
   "outputs": [],
   "source": [
    "# Your solution HERE !!!!\n",
    "def factor_generator(number):\n",
    "    for item in range(1, number + 1):\n",
    "        if number % item == 0:\n",
    "            yield item"
   ]
  },
  {
   "cell_type": "code",
   "execution_count": 27,
   "metadata": {},
   "outputs": [],
   "source": [
    "number = 1000\n",
    "expected_factors = [1, 2, 4, 5, 8, 10, 20, 25, 40, 50, 100, 125, 200, 250, 500, 1000]\n",
    "gen = factor_generator(number) # This calls tour function factor_generator\n",
    "output = [next(gen) for n in range(len(expected_factors))]\n",
    "assert(expected_factors == output)  # This will fail if the element is not found correctly"
   ]
  }
 ],
 "metadata": {
  "kernelspec": {
   "display_name": "piavenv",
   "language": "python",
   "name": "python3"
  },
  "language_info": {
   "codemirror_mode": {
    "name": "ipython",
    "version": 3
   },
   "file_extension": ".py",
   "mimetype": "text/x-python",
   "name": "python",
   "nbconvert_exporter": "python",
   "pygments_lexer": "ipython3",
   "version": "3.11.6"
  }
 },
 "nbformat": 4,
 "nbformat_minor": 2
}
