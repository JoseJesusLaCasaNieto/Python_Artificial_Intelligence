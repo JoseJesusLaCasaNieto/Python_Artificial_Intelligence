{
 "cells": [
  {
   "cell_type": "markdown",
   "id": "43115e44-f75d-465a-ad62-9b2be737a6e6",
   "metadata": {},
   "source": [
    "# Examen Segunda Convocatoria\n",
    "\n",
    "Alumno: José Jesús La Casa Nieto"
   ]
  },
  {
   "cell_type": "code",
   "execution_count": 124,
   "id": "eb8ba270-b03c-49f8-b092-8de37baa3bfe",
   "metadata": {},
   "outputs": [],
   "source": [
    "# Your imports HERE !!!!\n",
    "import pandas as pd\n",
    "import numpy as np\n",
    "import math\n",
    "import matplotlib.pyplot as plt"
   ]
  },
  {
   "cell_type": "markdown",
   "id": "9eb43e31-b713-448b-b584-472736a22e65",
   "metadata": {
    "tags": []
   },
   "source": [
    "## 01 - 1.25pt\n",
    "- Dada una lista de elementos, crea una función que devuelva un dataframe sin los elementos duplicados y ordenados"
   ]
  },
  {
   "cell_type": "code",
   "execution_count": 21,
   "id": "6e5dca0d-433d-4bf6-aae4-14bf1d7b8ad2",
   "metadata": {},
   "outputs": [],
   "source": [
    "# Your solution HERE !!!!\n",
    "def remove_duplicates(lst):\n",
    "    lst = list(set(lst))\n",
    "    lst.sort()\n",
    "    return pd.DataFrame(lst)"
   ]
  },
  {
   "cell_type": "code",
   "execution_count": 22,
   "id": "aa67d559-994e-4bb4-9122-96b1741d2a1f",
   "metadata": {},
   "outputs": [],
   "source": [
    "serie = ['a','a','t','a','c','g','g','a','c','t']\n",
    "expected_output = pd.DataFrame(['a','c','g','t'])\n",
    "output = remove_duplicates(serie)   # This will call tour function remove_duplicates\n",
    "assert(expected_output.equals(output))  # This will fail if the result is not as expected"
   ]
  },
  {
   "cell_type": "markdown",
   "id": "c9b31578-ccb1-4e0a-a8f8-e5934eb77244",
   "metadata": {
    "tags": []
   },
   "source": [
    "## 02- 1.25pt\n",
    "- Dado un diccionario con una lista de nombres de películas y al año concatenado, crear una función que devuelva un DataFrame con dos columnas:\n",
    "  - Columna 1, el nombre de la película sin el año\n",
    "  - Columna 2, el año de la película"
   ]
  },
  {
   "cell_type": "code",
   "execution_count": 56,
   "id": "37efedfa-4c23-491d-85e1-d8bf003ad13f",
   "metadata": {
    "tags": []
   },
   "outputs": [],
   "source": [
    "# Your solution HERE !!!!\n",
    "def extract_year(dct):\n",
    "    year_lst = []\n",
    "    name_lst = []\n",
    "    for lst in movies.values():\n",
    "        for movie in lst:\n",
    "            year_lst.append(movie[-4:])\n",
    "            name_lst.append(movie[:-7])\n",
    "    \n",
    "    return pd.DataFrame({'Name': name_lst, 'Year': year_lst})"
   ]
  },
  {
   "cell_type": "code",
   "execution_count": 57,
   "id": "3256244f-8dbf-404c-9f00-4ed02335ec69",
   "metadata": {},
   "outputs": [],
   "source": [
    "movies = {'Name': [\"Matrix - 1999\", \"Cadena Perpetua - 1994\", \"Parasitos - 2019\", \"Vengadores, Endgame - 2019\", \"Interstellar - 2014\", \n",
    "                   \"Django Desencadenado - 2012\", \"El Padrino - 1972\", \"El Caballero Oscuro - 2008\", \"Erase Una Vez En America - 1984\", \n",
    "                   \"El Senyor de los Anillos, La Comunidad del Anillo - 2001\"]}\n",
    "expected_output = pd.DataFrame({'Name':[\"Matrix\", \"Cadena Perpetua\", \"Parasitos\", \"Vengadores, Endgame\", \"Interstellar\", \"Django Desencadenado\", \n",
    "                                        \"El Padrino\", \"El Caballero Oscuro\", \"Erase Una Vez En America\", \"El Senyor de los Anillos, La Comunidad del Anillo\"],\n",
    "                                'Year':[\"1999\", \"1994\", \"2019\", \"2019\", \"2014\", \"2012\", \"1972\", \"2008\", \"1984\", \"2001\"]})\n",
    "output = extract_year(movies)   # This will call your function extract_year\n",
    "assert(expected_output.equals(output))  # This will fail if the result is not as expected"
   ]
  },
  {
   "cell_type": "markdown",
   "id": "41e16391-6adc-49cf-997e-345a1d1d3dda",
   "metadata": {},
   "source": [
    "## 03 - 1.25 pt\n",
    "\n",
    "- Crear una matriz cuadrada 6x6 con valores aleatorios enteros en el rango [-10,10]\n",
    "- Restar a cada elemento de dicha matriz la media de su correspondiente columna (dicha media redondeada hacia el entero superior más cercano)\n",
    "- Sustituir los valores negativos múltiplos de 3 por Nan\n",
    "- Eliminar aquellas columnas que tengan 2 o más celdas con valores Nan"
   ]
  },
  {
   "cell_type": "code",
   "execution_count": 89,
   "id": "06d9572d-5919-4e9f-8090-b41d3ac91dde",
   "metadata": {},
   "outputs": [
    {
     "name": "stdout",
     "output_type": "stream",
     "text": [
      "[[ -7  -7  -3 -10  -1 -10]\n",
      " [ -4  -4  -9  -9   4  -8]\n",
      " [  4   4  -2  -7   4  -1]\n",
      " [  5  -1  -4  -6   8   3]\n",
      " [ -6  10  -4  -4  -1   8]\n",
      " [  9   3   5  -9  -3 -10]]\n",
      "\n",
      "[ 1.  1. -2. -7.  2. -3.]\n",
      "\n",
      "[[-8. -8. -1. -3. -3. -7.]\n",
      " [-5. -5. -7. -2.  2. -5.]\n",
      " [ 3.  3.  0.  0.  2.  2.]\n",
      " [ 4. -2. -2.  1.  6.  6.]\n",
      " [-7.  9. -2.  3. -3. 11.]\n",
      " [ 8.  2.  7. -2. -5. -7.]]\n",
      "\n",
      "[[-8. -8. -1. nan nan -7.]\n",
      " [-5. -5. -7. -2.  2. -5.]\n",
      " [ 3.  3.  0.  0.  2.  2.]\n",
      " [ 4. -2. -2.  1.  6.  6.]\n",
      " [-7.  9. -2.  3. nan 11.]\n",
      " [ 8.  2.  7. -2. -5. -7.]]\n",
      "\n",
      "[[-8. -8. -1. nan -7.]\n",
      " [-5. -5. -7. -2. -5.]\n",
      " [ 3.  3.  0.  0.  2.]\n",
      " [ 4. -2. -2.  1.  6.]\n",
      " [-7.  9. -2.  3. 11.]\n",
      " [ 8.  2.  7. -2. -7.]]\n"
     ]
    }
   ],
   "source": [
    "# Your solution HERE !!!!\n",
    "matrix = np.random.randint(-10, 11, size=(6, 6))\n",
    "print(matrix)\n",
    "\n",
    "col_means = matrix.mean(axis=0)\n",
    "col_means = np.ceil(col_means)\n",
    "print(f\"\\n{col_means}\")\n",
    "\n",
    "matrix = np.subtract(matrix, col_means)\n",
    "print(f\"\\n{matrix}\")\n",
    "\n",
    "matrix = np.where((matrix < 0) & (matrix % 3 == 0), np.nan, matrix)\n",
    "print(f\"\\n{matrix}\")\n",
    "\n",
    "matrix = np.delete(matrix, np.isnan(matrix).sum(axis=0) >= 2, axis=1)\n",
    "print(f\"\\n{matrix}\")"
   ]
  },
  {
   "cell_type": "markdown",
   "id": "3be08b82-cf39-42ca-b90e-cc0656dd97f2",
   "metadata": {
    "tags": []
   },
   "source": [
    "## 04 - 3pt\n",
    "- Se tienen tres datasets, se adjuntan sus datos como diccionarios\n",
    "  - Students, representa un conjunto de alumnos, con sus nombres, edad y sexo\n",
    "  - Subjects, un conjunto de asignaturas, con su nombre y el semestre en que se imparten\n",
    "  - Marks, un conjunto de notas que han obtenido los alumnos en las asignaturas\n",
    "- Obtener la siguiente información usando Pandas\n",
    "  - Los nombres del alumno con la peor nota, y en que asignatura ha sido\n",
    "  - Cuantos alumnos tienen asignaturas aprobadas en el primer semestre\n",
    "  - La media de edad de los asistentes a la asignatura de Math\n",
    "  - Formar una palabra con las iniciales de los nombres de los estudiantes ordenados por edad descendente, menores de 50 años\n",
    "- Representar graficamente\n",
    "  - Las notas medias de todos los estudiantes por asignatura, agrupando por sexo\n",
    "  - La densidad bivariable de la edad de los estudiantes frente a sus notas, agrupando por sexo (mostrando los datos de dispersion en la zona central, las curvas de densidad en los ejes)"
   ]
  },
  {
   "cell_type": "code",
   "execution_count": 91,
   "id": "e7d91b54-ed11-4d11-bfc1-36a63b7739e7",
   "metadata": {},
   "outputs": [],
   "source": [
    "students = {'StudentId': [1,2,3,4,5,6], 'Name' : ['Philip','Max','Yamileh','Nathan','Uma','Paula'], 'Age' : [22,31,19,44,39,51], 'Sex' : ['M', 'M', 'F', 'M', 'F', 'F']}\n",
    "subjects = {'SubjectId': [1,2,3], 'Name': ['Python', 'Math', 'DeepLearning'], 'Semester': [1, 1, 2]}\n",
    "marks = {'StudentId' : [2,2,1,3,6,4,4,3,2,5], 'SubjectId' : [1,3,1,2,1,2,3,1,2,1], 'Mark': [6,5,8,3,5,1,7,2,4,6]}"
   ]
  },
  {
   "cell_type": "code",
   "execution_count": 126,
   "id": "1009d989-abfc-4439-b7f4-bc62bb37cb5c",
   "metadata": {},
   "outputs": [
    {
     "data": {
      "text/html": [
       "<div>\n",
       "<style scoped>\n",
       "    .dataframe tbody tr th:only-of-type {\n",
       "        vertical-align: middle;\n",
       "    }\n",
       "\n",
       "    .dataframe tbody tr th {\n",
       "        vertical-align: top;\n",
       "    }\n",
       "\n",
       "    .dataframe thead th {\n",
       "        text-align: right;\n",
       "    }\n",
       "</style>\n",
       "<table border=\"1\" class=\"dataframe\">\n",
       "  <thead>\n",
       "    <tr style=\"text-align: right;\">\n",
       "      <th></th>\n",
       "      <th>StudentId</th>\n",
       "      <th>Name</th>\n",
       "      <th>Age</th>\n",
       "      <th>Sex</th>\n",
       "    </tr>\n",
       "  </thead>\n",
       "  <tbody>\n",
       "    <tr>\n",
       "      <th>0</th>\n",
       "      <td>1</td>\n",
       "      <td>Philip</td>\n",
       "      <td>22</td>\n",
       "      <td>M</td>\n",
       "    </tr>\n",
       "    <tr>\n",
       "      <th>1</th>\n",
       "      <td>2</td>\n",
       "      <td>Max</td>\n",
       "      <td>31</td>\n",
       "      <td>M</td>\n",
       "    </tr>\n",
       "    <tr>\n",
       "      <th>2</th>\n",
       "      <td>3</td>\n",
       "      <td>Yamileh</td>\n",
       "      <td>19</td>\n",
       "      <td>F</td>\n",
       "    </tr>\n",
       "    <tr>\n",
       "      <th>3</th>\n",
       "      <td>4</td>\n",
       "      <td>Nathan</td>\n",
       "      <td>44</td>\n",
       "      <td>M</td>\n",
       "    </tr>\n",
       "    <tr>\n",
       "      <th>4</th>\n",
       "      <td>5</td>\n",
       "      <td>Uma</td>\n",
       "      <td>39</td>\n",
       "      <td>F</td>\n",
       "    </tr>\n",
       "    <tr>\n",
       "      <th>5</th>\n",
       "      <td>6</td>\n",
       "      <td>Paula</td>\n",
       "      <td>51</td>\n",
       "      <td>F</td>\n",
       "    </tr>\n",
       "  </tbody>\n",
       "</table>\n",
       "</div>"
      ],
      "text/plain": [
       "   StudentId     Name  Age Sex\n",
       "0          1   Philip   22   M\n",
       "1          2      Max   31   M\n",
       "2          3  Yamileh   19   F\n",
       "3          4   Nathan   44   M\n",
       "4          5      Uma   39   F\n",
       "5          6    Paula   51   F"
      ]
     },
     "metadata": {},
     "output_type": "display_data"
    },
    {
     "data": {
      "text/html": [
       "<div>\n",
       "<style scoped>\n",
       "    .dataframe tbody tr th:only-of-type {\n",
       "        vertical-align: middle;\n",
       "    }\n",
       "\n",
       "    .dataframe tbody tr th {\n",
       "        vertical-align: top;\n",
       "    }\n",
       "\n",
       "    .dataframe thead th {\n",
       "        text-align: right;\n",
       "    }\n",
       "</style>\n",
       "<table border=\"1\" class=\"dataframe\">\n",
       "  <thead>\n",
       "    <tr style=\"text-align: right;\">\n",
       "      <th></th>\n",
       "      <th>SubjectId</th>\n",
       "      <th>Name</th>\n",
       "      <th>Semester</th>\n",
       "    </tr>\n",
       "  </thead>\n",
       "  <tbody>\n",
       "    <tr>\n",
       "      <th>0</th>\n",
       "      <td>1</td>\n",
       "      <td>Python</td>\n",
       "      <td>1</td>\n",
       "    </tr>\n",
       "    <tr>\n",
       "      <th>1</th>\n",
       "      <td>2</td>\n",
       "      <td>Math</td>\n",
       "      <td>1</td>\n",
       "    </tr>\n",
       "    <tr>\n",
       "      <th>2</th>\n",
       "      <td>3</td>\n",
       "      <td>DeepLearning</td>\n",
       "      <td>2</td>\n",
       "    </tr>\n",
       "  </tbody>\n",
       "</table>\n",
       "</div>"
      ],
      "text/plain": [
       "   SubjectId          Name  Semester\n",
       "0          1        Python         1\n",
       "1          2          Math         1\n",
       "2          3  DeepLearning         2"
      ]
     },
     "metadata": {},
     "output_type": "display_data"
    },
    {
     "data": {
      "text/html": [
       "<div>\n",
       "<style scoped>\n",
       "    .dataframe tbody tr th:only-of-type {\n",
       "        vertical-align: middle;\n",
       "    }\n",
       "\n",
       "    .dataframe tbody tr th {\n",
       "        vertical-align: top;\n",
       "    }\n",
       "\n",
       "    .dataframe thead th {\n",
       "        text-align: right;\n",
       "    }\n",
       "</style>\n",
       "<table border=\"1\" class=\"dataframe\">\n",
       "  <thead>\n",
       "    <tr style=\"text-align: right;\">\n",
       "      <th></th>\n",
       "      <th>StudentId</th>\n",
       "      <th>SubjectId</th>\n",
       "      <th>Mark</th>\n",
       "    </tr>\n",
       "  </thead>\n",
       "  <tbody>\n",
       "    <tr>\n",
       "      <th>0</th>\n",
       "      <td>2</td>\n",
       "      <td>1</td>\n",
       "      <td>6</td>\n",
       "    </tr>\n",
       "    <tr>\n",
       "      <th>1</th>\n",
       "      <td>2</td>\n",
       "      <td>3</td>\n",
       "      <td>5</td>\n",
       "    </tr>\n",
       "    <tr>\n",
       "      <th>2</th>\n",
       "      <td>1</td>\n",
       "      <td>1</td>\n",
       "      <td>8</td>\n",
       "    </tr>\n",
       "    <tr>\n",
       "      <th>3</th>\n",
       "      <td>3</td>\n",
       "      <td>2</td>\n",
       "      <td>3</td>\n",
       "    </tr>\n",
       "    <tr>\n",
       "      <th>4</th>\n",
       "      <td>6</td>\n",
       "      <td>1</td>\n",
       "      <td>5</td>\n",
       "    </tr>\n",
       "    <tr>\n",
       "      <th>5</th>\n",
       "      <td>4</td>\n",
       "      <td>2</td>\n",
       "      <td>1</td>\n",
       "    </tr>\n",
       "    <tr>\n",
       "      <th>6</th>\n",
       "      <td>4</td>\n",
       "      <td>3</td>\n",
       "      <td>7</td>\n",
       "    </tr>\n",
       "    <tr>\n",
       "      <th>7</th>\n",
       "      <td>3</td>\n",
       "      <td>1</td>\n",
       "      <td>2</td>\n",
       "    </tr>\n",
       "    <tr>\n",
       "      <th>8</th>\n",
       "      <td>2</td>\n",
       "      <td>2</td>\n",
       "      <td>4</td>\n",
       "    </tr>\n",
       "    <tr>\n",
       "      <th>9</th>\n",
       "      <td>5</td>\n",
       "      <td>1</td>\n",
       "      <td>6</td>\n",
       "    </tr>\n",
       "  </tbody>\n",
       "</table>\n",
       "</div>"
      ],
      "text/plain": [
       "   StudentId  SubjectId  Mark\n",
       "0          2          1     6\n",
       "1          2          3     5\n",
       "2          1          1     8\n",
       "3          3          2     3\n",
       "4          6          1     5\n",
       "5          4          2     1\n",
       "6          4          3     7\n",
       "7          3          1     2\n",
       "8          2          2     4\n",
       "9          5          1     6"
      ]
     },
     "metadata": {},
     "output_type": "display_data"
    },
    {
     "name": "stdout",
     "output_type": "stream",
     "text": [
      "\n",
      "Alumno con la peor nota: Nathan\n",
      "Asignatura: Math\n",
      "\n",
      "Alumnos con asignaturas aprobadas primer semestre: 4\n",
      "\n"
     ]
    },
    {
     "data": {
      "text/plain": [
       "3    3\n",
       "5    4\n",
       "8    2\n",
       "Name: StudentId, dtype: int64"
      ]
     },
     "metadata": {},
     "output_type": "display_data"
    },
    {
     "name": "stdout",
     "output_type": "stream",
     "text": [
      "\n",
      "Media de edad de la asignatura de 'Math': 42.0 años\n"
     ]
    },
    {
     "name": "stderr",
     "output_type": "stream",
     "text": [
      "C:\\Users\\pepel\\AppData\\Local\\Temp\\ipykernel_24876\\2070383643.py:25: UserWarning: Boolean Series key will be reindexed to match DataFrame index.\n",
      "  students_df_math = students_df[(students_df['StudentId'] == 2) | (marks_df['StudentId'] == 3) | (marks_df['StudentId'] == 4)]\n"
     ]
    }
   ],
   "source": [
    "# Your solution HERE !!!!\n",
    "students_df = pd.DataFrame(students)\n",
    "display(students_df)\n",
    "\n",
    "subjects_df = pd.DataFrame(subjects)\n",
    "display(subjects_df)\n",
    "\n",
    "marks_df = pd.DataFrame(marks)\n",
    "display(marks_df)\n",
    "\n",
    "worst_mark_index = marks_df['Mark'].idxmin()\n",
    "worst_student_id = marks_df['StudentId'].iloc[worst_mark_index]\n",
    "worst_student_index = students_df[students_df['StudentId'] == worst_student_id]\n",
    "worst_student_name = worst_student_index['Name'].values[0]\n",
    "subject_id = marks_df['SubjectId'].iloc[worst_mark_index]\n",
    "subject_index = subjects_df[subjects_df['SubjectId'] == subject_id]\n",
    "subject_name = subject_index['Name'].values[0]\n",
    "print(f\"\\nAlumno con la peor nota: {worst_student_name}\\nAsignatura: {subject_name}\")\n",
    "\n",
    "marks_df_first_sem = marks_df[(marks_df['SubjectId'] == 1) | (marks_df['SubjectId'] == 2)]\n",
    "print(f\"\\nAlumnos con asignaturas aprobadas primer semestre: {(marks_df_first_sem['Mark'] >= 5).sum()}\\n\")\n",
    "\n",
    "marks_df_math = marks_df[(marks_df['SubjectId'] == 2)]\n",
    "display(marks_df_math['StudentId'])   # Se obtienen los Id de los estudiantes\n",
    "students_df_math = students_df[(students_df['StudentId'] == 2) | (marks_df['StudentId'] == 3) | (marks_df['StudentId'] == 4)]\n",
    "print(f\"\\nMedia de edad de la asignatura de 'Math': {students_df_math['Age'].mean()} años\")"
   ]
  },
  {
   "cell_type": "markdown",
   "id": "b8c28ced-30fd-4b77-a63c-d9d794700da8",
   "metadata": {},
   "source": [
    "## 05 - 1.25pt\n",
    "- Escribir una función 'prime_number' que cada vez que se invoque devuelva el siguiente número primo,  empezando por el 2, hasta cualquier número infinito. Usando plain Python, sin ninguna librería. Primo es aquel número natural mayor que 1, que solo es divisible por 1 y por si mismo."
   ]
  },
  {
   "cell_type": "code",
   "execution_count": 33,
   "id": "d98fe6ec-7d57-4ae3-abfb-f786bf545f8f",
   "metadata": {},
   "outputs": [],
   "source": [
    "# Your solution HERE !!!!\n",
    "def is_prime(n):\n",
    "    if n <= 1:\n",
    "        return False\n",
    "    for i in range(2, int(n**0.5) + 1):\n",
    "        if n % i == 0:\n",
    "            return False\n",
    "    return True\n",
    "\n",
    "def prime_number():\n",
    "    n = 2\n",
    "    while True:\n",
    "        if is_prime(n):\n",
    "            yield n\n",
    "        n += 1"
   ]
  },
  {
   "cell_type": "code",
   "execution_count": 34,
   "id": "a68ab136-4a08-424e-9842-a4a807c28d21",
   "metadata": {},
   "outputs": [],
   "source": [
    "expected_output = [2, 3, 5, 7, 11, 13, 17, 19, 23, 29]\n",
    "g = prime_number()  # This calls your function prime_number\n",
    "output = [next(g) for n in range(len(expected_output))]\n",
    "assert(expected_output == output)  # This will fail if the output is not as expected"
   ]
  },
  {
   "cell_type": "markdown",
   "id": "d9dd89c9-a229-40a1-b461-b0f66f9d13f5",
   "metadata": {
    "tags": []
   },
   "source": [
    "## 06 - 1 pt\n",
    "- Dado un array de elementos, escribir una función, que reciba dicho array como parámetro de entrada y devuelva el elemento repetido. Usando plain Python, sin ninguna librería."
   ]
  },
  {
   "cell_type": "code",
   "execution_count": 25,
   "id": "b06a2bfa-f3be-4a00-ac1a-4cebce3a3196",
   "metadata": {},
   "outputs": [],
   "source": [
    "# Your solution HERE !!!!\n",
    "def repeated_element(lst):\n",
    "    elements_viewed = []\n",
    "    for number in lst:\n",
    "        if number in elements_viewed:\n",
    "            return number\n",
    "        else:\n",
    "            elements_viewed.append(number)"
   ]
  },
  {
   "cell_type": "code",
   "execution_count": 26,
   "id": "47edc546-560f-4a68-a27f-89b25bec98de",
   "metadata": {},
   "outputs": [],
   "source": [
    "array_src = [4, 8, 0, 3, 6, 2, 1, 5, 3, 9, 7]\n",
    "expected_rep_element = 3\n",
    "rep_element = repeated_element(array_src) # This calls your function repeated_element\n",
    "assert(expected_rep_element == rep_element)  # This will fail if the element is not found correctly"
   ]
  },
  {
   "cell_type": "markdown",
   "id": "22c1af89-6274-4378-8975-69531b529ec2",
   "metadata": {
    "tags": []
   },
   "source": [
    "## 07 - 1pt\n",
    "- Resolución de dos sistemas de ecuaciones\n",
    "    - $ A : \\begin{cases} 8x +  2y = 11 \\\\ -3y + 10x = 44                         \\end{cases}$\n",
    "    \n",
    "    - $ B : \\begin{cases} -4z + y = 5 \\\\ 3y + 2z = -2 \\\\ -x -z + 2y = -1 \\end{cases}$\n",
    "- Verifica por código los resultados"
   ]
  },
  {
   "cell_type": "code",
   "execution_count": 31,
   "id": "e9ae3518-baba-4e9d-a409-bf320e7199e4",
   "metadata": {},
   "outputs": [
    {
     "name": "stdout",
     "output_type": "stream",
     "text": [
      "True\n",
      "True\n",
      "True\n",
      "True\n",
      "True\n"
     ]
    }
   ],
   "source": [
    "# Your solution HERE !!!!\n",
    "a = np.array([[8, 2], [10, -3]])\n",
    "b = np.array([11, 44])\n",
    "\n",
    "x,y = np.linalg.solve(a,b)\n",
    "print(math.isclose(8*x + 2*y, 11))\n",
    "print(math.isclose(-3*y + 10*x, 44))\n",
    "\n",
    "c = np.array([[0, 1, -4], [0, 3, 2], [-1, 2, -1]])\n",
    "d = np.array([5, -2, -1])\n",
    "\n",
    "x,y,z = np.linalg.solve(c, d)\n",
    "print(math.isclose(-4*z + y, 5))\n",
    "print(math.isclose(3*y + 2*z, -2))\n",
    "print(math.isclose(-x - z + 2*y, -1))"
   ]
  }
 ],
 "metadata": {
  "kernelspec": {
   "display_name": "Python 3 (ipykernel)",
   "language": "python",
   "name": "python3"
  },
  "language_info": {
   "codemirror_mode": {
    "name": "ipython",
    "version": 3
   },
   "file_extension": ".py",
   "mimetype": "text/x-python",
   "name": "python",
   "nbconvert_exporter": "python",
   "pygments_lexer": "ipython3",
   "version": "3.11.6"
  }
 },
 "nbformat": 4,
 "nbformat_minor": 5
}
