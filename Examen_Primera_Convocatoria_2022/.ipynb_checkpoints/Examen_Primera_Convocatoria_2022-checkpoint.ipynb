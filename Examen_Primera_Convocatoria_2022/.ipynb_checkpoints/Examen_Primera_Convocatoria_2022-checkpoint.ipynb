{
 "cells": [
  {
   "cell_type": "markdown",
   "id": "43115e44-f75d-465a-ad62-9b2be737a6e6",
   "metadata": {},
   "source": [
    "# Examen Primera Convocatoria"
   ]
  },
  {
   "cell_type": "code",
   "execution_count": 73,
   "id": "eb8ba270-b03c-49f8-b092-8de37baa3bfe",
   "metadata": {},
   "outputs": [],
   "source": [
    "# Your imports HERE !!!!\n",
    "import numpy as np\n",
    "import pandas as pd\n",
    "import matplotlib.pyplot as plt"
   ]
  },
  {
   "cell_type": "markdown",
   "id": "2206adbd-c8e0-4665-a20b-bb6a1503d388",
   "metadata": {
    "tags": []
   },
   "source": [
    "## 01 - 1 pt\n",
    "- Dado un array de elementos, escribir una función, que reciba dicho array como parámetro de entrada y devuelva el elemento repetido. Usando plain Python, sin ninguna librería."
   ]
  },
  {
   "cell_type": "code",
   "execution_count": 13,
   "id": "3b6d4855-e751-4f45-8382-1291885aef0c",
   "metadata": {},
   "outputs": [],
   "source": [
    "# Your solution HERE !!!!\n",
    "def repeated_element(lst):\n",
    "    duplicated_lst = []\n",
    "    for number in lst:\n",
    "        if number not in duplicated_lst:\n",
    "            duplicated_lst.append(number)\n",
    "        else:\n",
    "            return number\n",
    "\n",
    "def repeated_element2(lst):\n",
    "    for number in lst:\n",
    "        if lst.count(number) > 1: break\n",
    "    return number"
   ]
  },
  {
   "cell_type": "code",
   "execution_count": 16,
   "id": "ebb926a8-6b4e-4921-b8d8-2176083649a5",
   "metadata": {},
   "outputs": [],
   "source": [
    "array_src = [4, 8, 0, 3, 6, 2, 1, 5, 3, 9, 7]\n",
    "expected_rep_element = 3\n",
    "rep_element = repeated_element(array_src) # This calls your function repeated_element\n",
    "assert(expected_rep_element == rep_element)  # This will fail if the element is not found correctly"
   ]
  },
  {
   "cell_type": "markdown",
   "id": "5161decf-e061-44a9-a413-8d3921a10058",
   "metadata": {
    "tags": []
   },
   "source": [
    "## 02 - 1pt\n",
    "- Genera una matriz con valores aleatorios de 0 a 100 de dimensiones 16x16\n",
    "- Calcula los siguentes estadísticos en la matriz anterior, por fila (el resultado de cada uno debe ser un array de dimensiones 1x16)\n",
    "  - Suma de los elementos de cada fila\n",
    "  - Media de los elementos de cada fila\n",
    "  - Valores mínimos de cada fila\n",
    "  - Valores máximos de cada fila"
   ]
  },
  {
   "cell_type": "code",
   "execution_count": 23,
   "id": "2e7bfe3c-253f-4287-8d85-fb7e5163e6c0",
   "metadata": {},
   "outputs": [
    {
     "name": "stdout",
     "output_type": "stream",
     "text": [
      "[[  2   1  39  99  34  92  22  84 100  48  70  50   9  41  82  59]\n",
      " [ 46  52  86  76   1  56  19   1  69  60   2  36  18  49  69  57]\n",
      " [ 14  23  46  82  56  53  37  50   2  42  75  82   8  28  56  84]\n",
      " [ 55  42  68  38  80  20  73  83  44   7  71  94  47   5  11   8]\n",
      " [ 20  63  68  81   2  64  94  34  26  36  83  50  50  14  43   4]\n",
      " [ 96  26  53  53  67   2  62  46  85  51  95  81  84  86   6  26]\n",
      " [  7  11  29  17  65  73  14  85   5  97  67  85  83  10  90  70]\n",
      " [ 32  77  42   5  65  23  36  50  80  94  20  91  64   8   8  21]\n",
      " [  5  53  38  78  93  29  94  15  19  85  27  49  76  69  84  91]\n",
      " [ 37   8  65  57  95  51   1  84  40  12   7  52  83  99   2   3]\n",
      " [ 55   7  64  49  61  83   7  75  63  80  32  33  65  58  29  83]\n",
      " [ 17  51  74  23  30  69   9   7  59  79   4  90  76  30  37  60]\n",
      " [ 36  31  63  58   6  53  28  72  61  12  89  37  53  48  84  47]\n",
      " [ 67  70  38  18  71  24  59  26  32  43  55  87  50  23   6  61]\n",
      " [ 60  56  31   2  71   4  71 100  85  23  90  53  79  85  56   4]\n",
      " [ 67  13  20   1  40  36  40  20  45  42  32   9  81  13  93  71]]\n",
      "\n",
      "Suma de las filas: [[832 697 738 746 732 919 808 716 905 696 844 715 778 730 870 623]]\n",
      "Media de las filas: [[52.     43.5625 46.125  46.625  45.75   57.4375 50.5    44.75   56.5625\n",
      "  43.5    52.75   44.6875 48.625  45.625  54.375  38.9375]]\n",
      "Mínimo de cada fila: [[1 1 2 5 2 2 5 5 5 1 7 4 6 6 2 1]]\n",
      "Máximo de cada fila: [[100  86  84  94  94  96  97  94  94  99  83  90  89  87 100  93]]\n"
     ]
    }
   ],
   "source": [
    "# Your solution HERE !!!!\n",
    "matrix = np.random.randint(0, 101, size=(16, 16))\n",
    "print(matrix)\n",
    "\n",
    "print(f\"\\nSuma de las filas: {np.sum(matrix, axis=1).reshape(1, 16)}\")\n",
    "print(f\"Media de las filas: {np.mean(matrix, axis=1).reshape(1, 16)}\")\n",
    "print(f\"Mínimo de cada fila: {np.min(matrix, axis=1).reshape(1, 16)}\")\n",
    "print(f\"Máximo de cada fila: {np.max(matrix, axis=1).reshape(1, 16)}\")\n",
    "\n",
    "# Opción 2\n",
    "# suma, media, minimo, maximo = [], [], [], []\n",
    "# for element in matrix:\n",
    "#     suma.append(element.sum())\n",
    "#     media.append(element.mean())\n",
    "#     minimo.append(element.min())\n",
    "#     maximo.append(element.max())\n",
    "    \n",
    "# print(f'Suma: {np.array(suma)}') \n",
    "# print(f'Media: {np.array(media)}') \n",
    "# print(f'Mínimo: {np.array(minimo)}') \n",
    "# print(f'Máximo: {np.array(maximo)}')"
   ]
  },
  {
   "cell_type": "markdown",
   "id": "9986c32f-299d-4ce7-809e-db01ee851764",
   "metadata": {
    "tags": []
   },
   "source": [
    "## 03 - 1pt\n",
    "\n",
    "- Generar un dataframe de 3x4 dimensiones con valores númericos aleatorios [0,10]\n",
    "- Darle un índice semántico alfanumérico\n",
    "- Aplicarle una función lambda que obtenga la diferencia entre el máximo y mínimo de cada fila"
   ]
  },
  {
   "cell_type": "code",
   "execution_count": 32,
   "id": "18ff9dbf-9ba4-4513-8a73-d0328b689dc9",
   "metadata": {},
   "outputs": [
    {
     "name": "stdout",
     "output_type": "stream",
     "text": [
      "[[10  9  1  2]\n",
      " [ 2  7  6  3]\n",
      " [ 2  5  1 10]]\n"
     ]
    },
    {
     "data": {
      "text/html": [
       "<div>\n",
       "<style scoped>\n",
       "    .dataframe tbody tr th:only-of-type {\n",
       "        vertical-align: middle;\n",
       "    }\n",
       "\n",
       "    .dataframe tbody tr th {\n",
       "        vertical-align: top;\n",
       "    }\n",
       "\n",
       "    .dataframe thead th {\n",
       "        text-align: right;\n",
       "    }\n",
       "</style>\n",
       "<table border=\"1\" class=\"dataframe\">\n",
       "  <thead>\n",
       "    <tr style=\"text-align: right;\">\n",
       "      <th></th>\n",
       "      <th>Col1</th>\n",
       "      <th>Col2</th>\n",
       "      <th>Col3</th>\n",
       "      <th>Col4</th>\n",
       "    </tr>\n",
       "  </thead>\n",
       "  <tbody>\n",
       "    <tr>\n",
       "      <th>a</th>\n",
       "      <td>10</td>\n",
       "      <td>9</td>\n",
       "      <td>1</td>\n",
       "      <td>2</td>\n",
       "    </tr>\n",
       "    <tr>\n",
       "      <th>b</th>\n",
       "      <td>2</td>\n",
       "      <td>7</td>\n",
       "      <td>6</td>\n",
       "      <td>3</td>\n",
       "    </tr>\n",
       "    <tr>\n",
       "      <th>c</th>\n",
       "      <td>2</td>\n",
       "      <td>5</td>\n",
       "      <td>1</td>\n",
       "      <td>10</td>\n",
       "    </tr>\n",
       "  </tbody>\n",
       "</table>\n",
       "</div>"
      ],
      "text/plain": [
       "   Col1  Col2  Col3  Col4\n",
       "a    10     9     1     2\n",
       "b     2     7     6     3\n",
       "c     2     5     1    10"
      ]
     },
     "metadata": {},
     "output_type": "display_data"
    },
    {
     "data": {
      "text/plain": [
       "a    9\n",
       "b    5\n",
       "c    9\n",
       "dtype: int32"
      ]
     },
     "metadata": {},
     "output_type": "display_data"
    }
   ],
   "source": [
    "# Your solution HERE !!!!\n",
    "matrix = np.random.randint(0, 11, size=(3, 4))\n",
    "print(matrix)\n",
    "\n",
    "df = pd.DataFrame(matrix, index=['a', 'b', 'c'], columns=['Col1', 'Col2', 'Col3', 'Col4'])\n",
    "display(df)\n",
    "\n",
    "output_df = df.apply(lambda row: row.max() - row.min(), axis=1)\n",
    "display(output_df)\n",
    "\n",
    "# Opción 2\n",
    "# df = pd.DataFrame(np.random.randint(11, size = (3, 4)), index = ('a', 'b', 'c'), columns = ('A', 'B', 'C', 'D'))\n",
    "# print(f'\\nSolución: {list(map(lambda x: df.loc[x].max() - df.loc[x].min(), df.index))}')\n",
    "# display(df)"
   ]
  },
  {
   "cell_type": "markdown",
   "id": "1dc73e21-7283-4cd5-92e8-3a7e1e70fd02",
   "metadata": {
    "tags": []
   },
   "source": [
    "## 04 - 1pt\n",
    "- Crear un array de NumPy de dimensiones 8x5, con números enteros aleatorios en el rango [-100, 100]\n",
    "- Ejecutar en este orden\n",
    "  - Reemplazar valores  \n",
    "    - Reemplazar los valores de todos aquellos números múltiplos de 5 por 100\n",
    "    - Reemplazar los valores de todos aquellos números múltiplos de 3 por Nan\n",
    "   \n",
    "  - Averiguar cuantos elementos tienen Nan por fila\n",
    "  - Reemplazar los valores de Nan por 0"
   ]
  },
  {
   "cell_type": "code",
   "execution_count": 39,
   "id": "2fd83be4-8626-4eaa-9ead-6f951d5ebbfb",
   "metadata": {},
   "outputs": [
    {
     "name": "stdout",
     "output_type": "stream",
     "text": [
      "[[ 91 -82  84 -86 -80]\n",
      " [ 83  36  57 -90 -65]\n",
      " [  5  13   3  44 -34]\n",
      " [-38  23 -94  -6 -75]\n",
      " [-25  76 -39  16  46]\n",
      " [ 49 -94  97  74 -14]\n",
      " [ -6  -2 -32 -56  87]\n",
      " [-11 -97  87 -68 -46]]\n",
      "\n",
      "[[ 91 -82  84 -86 100]\n",
      " [ 83  36  57 100 100]\n",
      " [100  13   3  44 -34]\n",
      " [-38  23 -94  -6 100]\n",
      " [100  76 -39  16  46]\n",
      " [ 49 -94  97  74 -14]\n",
      " [ -6  -2 -32 -56  87]\n",
      " [-11 -97  87 -68 -46]]\n",
      "\n",
      "[[ 91. -82.  nan -86. 100.]\n",
      " [ 83.  nan  nan 100. 100.]\n",
      " [100.  13.  nan  44. -34.]\n",
      " [-38.  23. -94.  nan 100.]\n",
      " [100.  76.  nan  16.  46.]\n",
      " [ 49. -94.  97.  74. -14.]\n",
      " [ nan  -2. -32. -56.  nan]\n",
      " [-11. -97.  nan -68. -46.]]\n",
      "\n",
      "[1 2 1 1 1 0 2 1]\n",
      "\n",
      "[[ 91. -82.   0. -86. 100.]\n",
      " [ 83.   0.   0. 100. 100.]\n",
      " [100.  13.   0.  44. -34.]\n",
      " [-38.  23. -94.   0. 100.]\n",
      " [100.  76.   0.  16.  46.]\n",
      " [ 49. -94.  97.  74. -14.]\n",
      " [  0.  -2. -32. -56.   0.]\n",
      " [-11. -97.   0. -68. -46.]]\n"
     ]
    }
   ],
   "source": [
    "# Your solution HERE !!!!\n",
    "matrix = np.random.randint(-100, 101, size=(8, 5))\n",
    "print(matrix)\n",
    "\n",
    "matrix = np.where(matrix%5 == 0, 100, matrix)\n",
    "print(f\"\\n{matrix}\")\n",
    "\n",
    "matrix = np.where(matrix%3 == 0, np.nan, matrix)\n",
    "print(f\"\\n{matrix}\")\n",
    "\n",
    "print(f\"\\n{np.isnan(matrix).sum(axis=1)}\")\n",
    "\n",
    "matrix = np.where(np.isnan(matrix), 0, matrix)\n",
    "print(f\"\\n{matrix}\")"
   ]
  },
  {
   "cell_type": "markdown",
   "id": "45fe9b96-168d-4bdc-a472-fb41c9031c0d",
   "metadata": {
    "tags": []
   },
   "source": [
    "## 05 - 1pt\n",
    "- Crear una función que reciba una lista de strings y devuelva una serie de pandas, y convierta el primer y último carácter de la palabra de cada elemento de la serie a mayúsculas"
   ]
  },
  {
   "cell_type": "code",
   "execution_count": 42,
   "id": "b6b5696b-71fd-4dc4-8536-18eb2d69a8fa",
   "metadata": {},
   "outputs": [],
   "source": [
    "# Your solution HERE !!!!\n",
    "def first_last_uppercase(lst):\n",
    "    result = [item[0].upper() + item[1:-1] + item[-1].upper() for item in lst]\n",
    "    return pd.Series(result)\n",
    "\n",
    "def first_last_uppercase2(lst):\n",
    "    new_lst = []\n",
    "    for item in lst:\n",
    "        item = item[0].upper() + item[1:-1] + item[-1].upper()\n",
    "        new_lst.append(item)\n",
    "\n",
    "    return pd.Series(new_lst)\n",
    "\n",
    "def first_last_uppercase3(lst):\n",
    "    input_series = pd.Series(lst)\n",
    "    return input_series.apply(lambda item: item[0].upper() + item[1:-1] + item[-1].upper())"
   ]
  },
  {
   "cell_type": "code",
   "execution_count": 45,
   "id": "f0cfeb61-f24a-4897-aae7-a287470ba3bf",
   "metadata": {},
   "outputs": [],
   "source": [
    "languages = ['python', 'php', 'java', 'javascript', 'c++', 'sql']\n",
    "expected_output = pd.Series(['PythoN', 'PhP', 'JavA', 'JavascripT', 'C++', 'SqL'])\n",
    "output = first_last_uppercase(languages)  # This calls your function first_last_uppercase\n",
    "assert(expected_output.equals(output))  # This will fail if the two lists are different"
   ]
  },
  {
   "cell_type": "markdown",
   "id": "2b191602-365c-42d3-81af-f877089f0f20",
   "metadata": {
    "tags": []
   },
   "source": [
    "## 06 - 3 pt\n",
    "- Se tienen cuatro datasets, se adjuntan sus datos como diccionarios\n",
    "  - Orders, representa un conjunto de pedidos, con sus fechas, su cantidad, y el cliente y vendedor asociados al mismo\n",
    "  - Customers, conjunto de clientes, con su nombre y su ciudad\n",
    "  - Salesman, conjunto de vendedores, con su nombre, ciudad y porcentaje de comisión por venta\n",
    "  - Cities, conjunto de ciudades con sus nombres\n",
    "- Obtener la siguiente información usando Pandas\n",
    "  - El nombre del vendedor con la mejor venta, y a que cliente ha sido\n",
    "  - Dinero de la comisión otorgada para cada pedido, ordenado por fechas\n",
    "  - Media del dinero de los pedidos de los clientes de Tokyo\n",
    "  - Total del dinero de las comisiones del vendedor Ikuzu Midoriya en el mes de Agosto\n",
    "- Representar graficamente\n",
    "  - Media del total de cada pedido para cada cliente agrupado por ciudad\n",
    "  - Línea temporal del total de los pedidos"
   ]
  },
  {
   "cell_type": "code",
   "execution_count": 47,
   "id": "e14a9877-d29f-49e9-ab82-a8c89dc59081",
   "metadata": {},
   "outputs": [],
   "source": [
    "orders = {'OrderId': [1,2,3,4,5,6], 'OrderDate': ['2021-07-23', '2021-08-06', '2021-07-28', '2021-08-04', '2021-08-03', '2021-07-30'], 'Amount': [1500.5,2000.65,1550.2,1900.75,2205.4, 1208.22], 'CustomerId': [3,4,2,2,1,4], 'SalesmanId': [3,3,2,1,3,2]}\n",
    "customers = {'CustomerId': [1,2,3,4], 'Name': ['Brad Davis', 'Julian Green', 'Geoff Cameron', 'Fabian Johnson'], 'CityId': [2,1,2,3]}\n",
    "salesmans = {'SalesmanId': [1,2,3], 'Name': ['James Knite', 'Reinhardt Wilhelm', 'Ikuzu Midoriya'], 'CityId': [1,3,2], 'Comission': [0.15,0.11,0.09]}\n",
    "cities = {'CityId': [1,2,3], 'Name': ['New York', 'Tokyo', 'Berlin']}"
   ]
  },
  {
   "cell_type": "code",
   "execution_count": 68,
   "id": "95b15246-4019-4073-ae6c-6c32321cb5dd",
   "metadata": {},
   "outputs": [
    {
     "data": {
      "text/html": [
       "<div>\n",
       "<style scoped>\n",
       "    .dataframe tbody tr th:only-of-type {\n",
       "        vertical-align: middle;\n",
       "    }\n",
       "\n",
       "    .dataframe tbody tr th {\n",
       "        vertical-align: top;\n",
       "    }\n",
       "\n",
       "    .dataframe thead th {\n",
       "        text-align: right;\n",
       "    }\n",
       "</style>\n",
       "<table border=\"1\" class=\"dataframe\">\n",
       "  <thead>\n",
       "    <tr style=\"text-align: right;\">\n",
       "      <th></th>\n",
       "      <th>OrderId</th>\n",
       "      <th>OrderDate</th>\n",
       "      <th>Amount</th>\n",
       "      <th>CustomerId</th>\n",
       "      <th>SalesmanId</th>\n",
       "    </tr>\n",
       "  </thead>\n",
       "  <tbody>\n",
       "    <tr>\n",
       "      <th>0</th>\n",
       "      <td>1</td>\n",
       "      <td>2021-07-23</td>\n",
       "      <td>1500.50</td>\n",
       "      <td>3</td>\n",
       "      <td>3</td>\n",
       "    </tr>\n",
       "    <tr>\n",
       "      <th>1</th>\n",
       "      <td>2</td>\n",
       "      <td>2021-08-06</td>\n",
       "      <td>2000.65</td>\n",
       "      <td>4</td>\n",
       "      <td>3</td>\n",
       "    </tr>\n",
       "    <tr>\n",
       "      <th>2</th>\n",
       "      <td>3</td>\n",
       "      <td>2021-07-28</td>\n",
       "      <td>1550.20</td>\n",
       "      <td>2</td>\n",
       "      <td>2</td>\n",
       "    </tr>\n",
       "    <tr>\n",
       "      <th>3</th>\n",
       "      <td>4</td>\n",
       "      <td>2021-08-04</td>\n",
       "      <td>1900.75</td>\n",
       "      <td>2</td>\n",
       "      <td>1</td>\n",
       "    </tr>\n",
       "    <tr>\n",
       "      <th>4</th>\n",
       "      <td>5</td>\n",
       "      <td>2021-08-03</td>\n",
       "      <td>2205.40</td>\n",
       "      <td>1</td>\n",
       "      <td>3</td>\n",
       "    </tr>\n",
       "    <tr>\n",
       "      <th>5</th>\n",
       "      <td>6</td>\n",
       "      <td>2021-07-30</td>\n",
       "      <td>1208.22</td>\n",
       "      <td>4</td>\n",
       "      <td>2</td>\n",
       "    </tr>\n",
       "  </tbody>\n",
       "</table>\n",
       "</div>"
      ],
      "text/plain": [
       "   OrderId   OrderDate   Amount  CustomerId  SalesmanId\n",
       "0        1  2021-07-23  1500.50           3           3\n",
       "1        2  2021-08-06  2000.65           4           3\n",
       "2        3  2021-07-28  1550.20           2           2\n",
       "3        4  2021-08-04  1900.75           2           1\n",
       "4        5  2021-08-03  2205.40           1           3\n",
       "5        6  2021-07-30  1208.22           4           2"
      ]
     },
     "metadata": {},
     "output_type": "display_data"
    },
    {
     "data": {
      "text/html": [
       "<div>\n",
       "<style scoped>\n",
       "    .dataframe tbody tr th:only-of-type {\n",
       "        vertical-align: middle;\n",
       "    }\n",
       "\n",
       "    .dataframe tbody tr th {\n",
       "        vertical-align: top;\n",
       "    }\n",
       "\n",
       "    .dataframe thead th {\n",
       "        text-align: right;\n",
       "    }\n",
       "</style>\n",
       "<table border=\"1\" class=\"dataframe\">\n",
       "  <thead>\n",
       "    <tr style=\"text-align: right;\">\n",
       "      <th></th>\n",
       "      <th>CustomerId</th>\n",
       "      <th>Name</th>\n",
       "      <th>CityId</th>\n",
       "    </tr>\n",
       "  </thead>\n",
       "  <tbody>\n",
       "    <tr>\n",
       "      <th>0</th>\n",
       "      <td>1</td>\n",
       "      <td>Brad Davis</td>\n",
       "      <td>2</td>\n",
       "    </tr>\n",
       "    <tr>\n",
       "      <th>1</th>\n",
       "      <td>2</td>\n",
       "      <td>Julian Green</td>\n",
       "      <td>1</td>\n",
       "    </tr>\n",
       "    <tr>\n",
       "      <th>2</th>\n",
       "      <td>3</td>\n",
       "      <td>Geoff Cameron</td>\n",
       "      <td>2</td>\n",
       "    </tr>\n",
       "    <tr>\n",
       "      <th>3</th>\n",
       "      <td>4</td>\n",
       "      <td>Fabian Johnson</td>\n",
       "      <td>3</td>\n",
       "    </tr>\n",
       "  </tbody>\n",
       "</table>\n",
       "</div>"
      ],
      "text/plain": [
       "   CustomerId            Name  CityId\n",
       "0           1      Brad Davis       2\n",
       "1           2    Julian Green       1\n",
       "2           3   Geoff Cameron       2\n",
       "3           4  Fabian Johnson       3"
      ]
     },
     "metadata": {},
     "output_type": "display_data"
    },
    {
     "data": {
      "text/html": [
       "<div>\n",
       "<style scoped>\n",
       "    .dataframe tbody tr th:only-of-type {\n",
       "        vertical-align: middle;\n",
       "    }\n",
       "\n",
       "    .dataframe tbody tr th {\n",
       "        vertical-align: top;\n",
       "    }\n",
       "\n",
       "    .dataframe thead th {\n",
       "        text-align: right;\n",
       "    }\n",
       "</style>\n",
       "<table border=\"1\" class=\"dataframe\">\n",
       "  <thead>\n",
       "    <tr style=\"text-align: right;\">\n",
       "      <th></th>\n",
       "      <th>SalesmanId</th>\n",
       "      <th>Name</th>\n",
       "      <th>CityId</th>\n",
       "      <th>Comission</th>\n",
       "    </tr>\n",
       "  </thead>\n",
       "  <tbody>\n",
       "    <tr>\n",
       "      <th>0</th>\n",
       "      <td>1</td>\n",
       "      <td>James Knite</td>\n",
       "      <td>1</td>\n",
       "      <td>0.15</td>\n",
       "    </tr>\n",
       "    <tr>\n",
       "      <th>1</th>\n",
       "      <td>2</td>\n",
       "      <td>Reinhardt Wilhelm</td>\n",
       "      <td>3</td>\n",
       "      <td>0.11</td>\n",
       "    </tr>\n",
       "    <tr>\n",
       "      <th>2</th>\n",
       "      <td>3</td>\n",
       "      <td>Ikuzu Midoriya</td>\n",
       "      <td>2</td>\n",
       "      <td>0.09</td>\n",
       "    </tr>\n",
       "  </tbody>\n",
       "</table>\n",
       "</div>"
      ],
      "text/plain": [
       "   SalesmanId               Name  CityId  Comission\n",
       "0           1        James Knite       1       0.15\n",
       "1           2  Reinhardt Wilhelm       3       0.11\n",
       "2           3     Ikuzu Midoriya       2       0.09"
      ]
     },
     "metadata": {},
     "output_type": "display_data"
    },
    {
     "data": {
      "text/html": [
       "<div>\n",
       "<style scoped>\n",
       "    .dataframe tbody tr th:only-of-type {\n",
       "        vertical-align: middle;\n",
       "    }\n",
       "\n",
       "    .dataframe tbody tr th {\n",
       "        vertical-align: top;\n",
       "    }\n",
       "\n",
       "    .dataframe thead th {\n",
       "        text-align: right;\n",
       "    }\n",
       "</style>\n",
       "<table border=\"1\" class=\"dataframe\">\n",
       "  <thead>\n",
       "    <tr style=\"text-align: right;\">\n",
       "      <th></th>\n",
       "      <th>CityId</th>\n",
       "      <th>Name</th>\n",
       "    </tr>\n",
       "  </thead>\n",
       "  <tbody>\n",
       "    <tr>\n",
       "      <th>0</th>\n",
       "      <td>1</td>\n",
       "      <td>New York</td>\n",
       "    </tr>\n",
       "    <tr>\n",
       "      <th>1</th>\n",
       "      <td>2</td>\n",
       "      <td>Tokyo</td>\n",
       "    </tr>\n",
       "    <tr>\n",
       "      <th>2</th>\n",
       "      <td>3</td>\n",
       "      <td>Berlin</td>\n",
       "    </tr>\n",
       "  </tbody>\n",
       "</table>\n",
       "</div>"
      ],
      "text/plain": [
       "   CityId      Name\n",
       "0       1  New York\n",
       "1       2     Tokyo\n",
       "2       3    Berlin"
      ]
     },
     "metadata": {},
     "output_type": "display_data"
    },
    {
     "name": "stdout",
     "output_type": "stream",
     "text": [
      "\n",
      "Vendedor: Ikuzu Midoriya\n",
      "Cliente: Brad Davis\n"
     ]
    }
   ],
   "source": [
    "# Your solution HERE !!!!\n",
    "order_df = pd.DataFrame(orders)\n",
    "display(order_df)\n",
    "\n",
    "customer_df = pd.DataFrame(customers)\n",
    "display(customer_df)\n",
    "\n",
    "salesman_df = pd.DataFrame(salesmans)\n",
    "display(salesman_df)\n",
    "\n",
    "city_df = pd.DataFrame(cities)\n",
    "display(city_df)\n",
    "\n",
    "best_order_index = order_df['Amount'].idxmax()\n",
    "best_salesman_id = order_df['SalesmanId'].iloc[best_order_index]\n",
    "best_salesman_index = salesman_df[salesman_df['SalesmanId'] == best_salesman_id]\n",
    "best_salesman_name = best_salesman_index['Name'].values[0]\n",
    "best_customer_id = order_df['CustomerId'].iloc[best_order_index]\n",
    "best_customer_index = customer_df[customer_df['CustomerId'] == best_customer_id]\n",
    "best_customer_name = best_customer_index['Name'].values[0]\n",
    "print(f\"\\nVendedor: {best_salesman_name}\\nCliente: {best_customer_name}\")\n",
    "\n",
    "pedidos = []\n",
    "cantidades = []\n",
    "vendedores = []\n",
    "for index, row in order_df.iterrows():\n",
    "    pedidos.append(index)\n",
    "    cantidades.append(row['Amount'])\n",
    "\n"
   ]
  },
  {
   "cell_type": "markdown",
   "id": "8193738a-9028-4ec5-ba4e-bd9de74c9f1f",
   "metadata": {},
   "source": [
    "## 07 - 1pt\n",
    "- Escribir un generador `frange` que simule el comportamiento de la función `arange` de NumPy\n",
    "- Esta función cada vez que se invoque debe devolver valores espaciados uniformemente a partir de un valor inicial. Se debe proveer a dicha función un valor inicial para la secuencia de números y un valor para el step\n",
    "- Debe soportar valores númericos en coma flotante\n",
    "- La función potencialmente se puede llamar un número infinito de veces\n",
    "- Usando plain Python, sin ninguna librería"
   ]
  },
  {
   "cell_type": "code",
   "execution_count": 69,
   "id": "8092c7c1-c1c8-4492-b08c-489f8767ed73",
   "metadata": {},
   "outputs": [],
   "source": [
    "# Your solution HERE !!!!\n",
    "def frange(init, step):\n",
    "    temp = float(init)\n",
    "    yield temp\n",
    "    while True:\n",
    "        temp = temp + step\n",
    "        yield temp"
   ]
  },
  {
   "cell_type": "code",
   "execution_count": 70,
   "id": "c25e7bfd-2436-4c53-97e1-4dd4bfd29a8f",
   "metadata": {},
   "outputs": [],
   "source": [
    "import math\n",
    "\n",
    "init = 10.6\n",
    "step = 0.8\n",
    "g = frange(init, step)  # This calls your function frange\n",
    "\n",
    "iters = 10\n",
    "numbers = [next(g) for n in range(iters)]\n",
    "for i, n in enumerate(numbers):\n",
    "    assert(math.isclose(n, init + (step * i)))  # This will fail if the range is not properly created"
   ]
  },
  {
   "cell_type": "markdown",
   "id": "202c6c38-649d-4991-b118-12e6364d8ab0",
   "metadata": {},
   "source": [
    "## 08 - 1pt\n",
    "- Crear una lista de meses de Enero a Diciembre (eje X)\n",
    "- Generar datos aleatorios para el eje Y, hacerlo 3 veces distintas (Y0, Y1 e Y2)\n",
    "- Representar las 3 secuencias de datos aleatorios en una sola figura usando matplotlib\n",
    "- Añadir una leyenda para poder identificar cada secuencia\n",
    "- Nombrar las 3 secuencias de la siguiente manera (\"Facebook\", \"Twitter\", \"Instagram\")\n",
    "- Añadir un título y nombres a los dos ejes\n",
    "- Añadir una anotación (texto y flecha) a uno de los gráficos"
   ]
  },
  {
   "cell_type": "code",
   "execution_count": 76,
   "id": "b0dfefef-66a5-4804-af34-810fcaf25b5e",
   "metadata": {},
   "outputs": [
    {
     "data": {
      "image/png": "[encoded data removed]",
      "text/plain": [
       "<Figure size 640x480 with 1 Axes>"
      ]
     },
     "metadata": {},
     "output_type": "display_data"
    }
   ],
   "source": [
    "# Your solution HERE !!!!\n",
    "months = ['Enero', 'Febrero', 'Marzo', 'Abril', 'Mayo', 'Junio', 'Julio', 'Agosto', 'Septiembre', 'Octubre', 'Noviembre', 'Diciembre']\n",
    "Y0, Y1, Y2 = [np.random.randint(12, size = (12)) for _ in range(3)]\n",
    "\n",
    "fig, axis = plt.subplots(1,1)\n",
    "\n",
    "axis.plot(months, Y0, label = 'Facebook',)\n",
    "axis.plot(months, Y1, label = 'Twitter')\n",
    "axis.plot(months, Y2, label = 'Instagram')\n",
    "\n",
    "axis.legend(loc = 'best')\n",
    "\n",
    "axis.set_title('Apps data')\n",
    "axis.set_xlabel('Months')\n",
    "axis.set_ylabel('Users')\n",
    "\n",
    "fig.autofmt_xdate()\n",
    "\n",
    "plt.grid()\n",
    "plt.show() "
   ]
  }
 ],
 "metadata": {
  "kernelspec": {
   "display_name": "Python 3 (ipykernel)",
   "language": "python",
   "name": "python3"
  },
  "language_info": {
   "codemirror_mode": {
    "name": "ipython",
    "version": 3
   },
   "file_extension": ".py",
   "mimetype": "text/x-python",
   "name": "python",
   "nbconvert_exporter": "python",
   "pygments_lexer": "ipython3",
   "version": "3.11.6"
  },
  "vscode": {
   "interpreter": {
    "hash": "5729e048edb60ed6a0f16d22dbaa05e6b0ba5dbe48621622169cf76b607ac6a8"
   }
  }
 },
 "nbformat": 4,
 "nbformat_minor": 5
}
