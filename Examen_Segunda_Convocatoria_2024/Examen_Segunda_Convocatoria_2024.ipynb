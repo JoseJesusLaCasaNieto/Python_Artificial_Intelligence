{
 "cells": [
  {
   "cell_type": "markdown",
   "metadata": {},
   "source": [
    "<h1 style = \"font-size:3rem;color:orange\">Examen segunda convocatoria 2024</h1>"
   ]
  },
  {
   "cell_type": "markdown",
   "metadata": {},
   "source": [
    "#### Librerías"
   ]
  },
  {
   "cell_type": "code",
   "execution_count": 2,
   "metadata": {},
   "outputs": [],
   "source": [
    "import numpy as np"
   ]
  },
  {
   "cell_type": "markdown",
   "metadata": {},
   "source": [
    "# 1 - 1.25 pt\n",
    "Dado una lista de valores, cree un diccionario cuya clave sea el dato de la lista y el valor sea el resto de la división entre 6. No se deben incluir en el diccionario los valores cuyo resto es igual a cero."
   ]
  },
  {
   "cell_type": "code",
   "execution_count": 14,
   "metadata": {},
   "outputs": [],
   "source": [
    "def dct_items(lst):\n",
    "    return {item: item % 6 for item in lst if item % 6 != 0}"
   ]
  },
  {
   "cell_type": "code",
   "execution_count": 15,
   "metadata": {},
   "outputs": [],
   "source": [
    "ls_val = [30, 23, 7, 39, 55,  5, -4]\n",
    "dc_res = dct_items(ls_val)  # This calls your function\n",
    "dc_solucion = {23: 5, 7: 1, 39: 3, 55: 1, 5: 5, -4: 2}\n",
    "assert(dc_res == dc_solucion), \"Solución incorrecta\""
   ]
  },
  {
   "cell_type": "markdown",
   "metadata": {},
   "source": [
    "# 2 - 1.25 pt\n",
    "Realice con numpy:\n",
    "- Una matriz 4x2 (A) y un vector 4x1 (b) con valores aleatorios\n",
    "- Calcule la inversa de la multiplicación A traspuesta por la misma matriz, multiplíquelo por la matriz traspuesta de A y el vector b: $x =(A^{T}  A)^{-1} A^{T}b$ \n",
    "- Multiplique $x$ por un array de dos valores aleatorios."
   ]
  },
  {
   "cell_type": "code",
   "execution_count": 13,
   "metadata": {},
   "outputs": [
    {
     "name": "stdout",
     "output_type": "stream",
     "text": [
      "[[5 9]\n",
      " [7 9]\n",
      " [1 4]\n",
      " [8 6]]\n",
      "[[0]\n",
      " [7]\n",
      " [6]\n",
      " [4]]\n",
      "\n",
      "[[-30051]\n",
      " [-37872]]\n"
     ]
    }
   ],
   "source": [
    "A = np.random.randint(0, 10, size=(4, 2))\n",
    "b = np.random.randint(0, 10, size=(4, 1))\n",
    "\n",
    "print(A)\n",
    "print(b)\n",
    "\n",
    "x = np.dot(np.invert(np.dot(np.transpose(A), A)), np.dot(np.transpose(A), b))\n",
    "\n",
    "print()\n",
    "print(x)"
   ]
  },
  {
   "cell_type": "markdown",
   "metadata": {},
   "source": [
    "# 3 - 1.25 pt\n",
    "\n",
    "Se pide crear un generador que recorra una lista dada y, que en cada llamada, devuelva la media de los valores contiguos y el valor central definido por la posición del índice de dicha lista. Es decir, dada la lista [12, 3, 9, 3, 6], el generador devolverá en la primera iteración la media de 12 y 3 dando como resultado 7.5. En la segunda iteración será 12, 3 y 9, resultando 8. El último valor que devolverá será 3 y 6, resultando 4.5."
   ]
  },
  {
   "cell_type": "code",
   "execution_count": 27,
   "metadata": {},
   "outputs": [],
   "source": [
    "def generador_medias(lst):\n",
    "    position = 0\n",
    "    while position < len(lst):\n",
    "        if position == 0:\n",
    "            yield np.round((lst[position] + lst[position + 1]) / 2, 1)\n",
    "        elif position == len(lst) - 1:\n",
    "            yield np.round((lst[position - 1] + lst[position]) / 2, 1)\n",
    "        else:\n",
    "            yield np.round((lst[position - 1] + lst[position] + lst[position + 1]) / 3, 1)\n",
    "        position += 1"
   ]
  },
  {
   "cell_type": "code",
   "execution_count": 29,
   "metadata": {},
   "outputs": [],
   "source": [
    "ls_num = [12, 3, 9, 3, 6]\n",
    "gen = generador_medias(ls_num)\n",
    "ls_res = []\n",
    "ls_solucion = [7.5, 8.0, 5.0, 6.0, 4.5]\n",
    "for i in gen:\n",
    "    ls_res.append(i)\n",
    "assert (ls_res==ls_solucion), \"Solución incorrecta\""
   ]
  },
  {
   "cell_type": "markdown",
   "metadata": {},
   "source": [
    "# 4 - 1.25 pt\n",
    "\n",
    "Se pide crear una función que reciba un array de NumPy y devuelva otro en el cual estén marcados como True los elementos duplicados (a partir de la segunda ocurrencia), y como False los no repetidos o las primeras ocurrencias de los duplicados."
   ]
  },
  {
   "cell_type": "code",
   "execution_count": 30,
   "metadata": {},
   "outputs": [],
   "source": [
    "def find_duplicates(lst):\n",
    "    output_lst = []\n",
    "    dct = []\n",
    "    for item in lst:\n",
    "        if item not in dct:\n",
    "            output_lst.append(False)\n",
    "            dct.append(item)\n",
    "        else:\n",
    "            output_lst.append(True)\n",
    "    \n",
    "    return output_lst"
   ]
  },
  {
   "cell_type": "code",
   "execution_count": 31,
   "metadata": {},
   "outputs": [],
   "source": [
    "numbers = np.array([4, 4, 4, 3, 8, 1, 9, 6, 1, 5, 9, 4, 0, 2])\n",
    "expected_output = np.array([False, True, True, False, False, False, False, False, True, False, True, True, False, False])\n",
    "output = find_duplicates(numbers)   # This calls your function find_duplicates\n",
    "assert(np.array_equal(expected_output, output))  # This will fail if the result is not as expected"
   ]
  },
  {
   "cell_type": "code",
   "execution_count": null,
   "metadata": {},
   "outputs": [],
   "source": []
  }
 ],
 "metadata": {
  "kernelspec": {
   "display_name": "piavenv",
   "language": "python",
   "name": "python3"
  },
  "language_info": {
   "codemirror_mode": {
    "name": "ipython",
    "version": 3
   },
   "file_extension": ".py",
   "mimetype": "text/x-python",
   "name": "python",
   "nbconvert_exporter": "python",
   "pygments_lexer": "ipython3",
   "version": "3.11.6"
  }
 },
 "nbformat": 4,
 "nbformat_minor": 2
}
