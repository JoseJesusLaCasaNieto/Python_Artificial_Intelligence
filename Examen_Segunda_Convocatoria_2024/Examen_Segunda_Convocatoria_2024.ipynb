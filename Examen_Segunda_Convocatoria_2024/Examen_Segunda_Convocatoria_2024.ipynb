{
 "cells": [
  {
   "cell_type": "markdown",
   "metadata": {},
   "source": [
    "<h1 style = \"font-size:3rem;color:orange\">Examen segunda convocatoria 2024</h1>"
   ]
  },
  {
   "cell_type": "markdown",
   "metadata": {},
   "source": [
    "#### Librerías"
   ]
  },
  {
   "cell_type": "code",
   "execution_count": 1,
   "metadata": {},
   "outputs": [],
   "source": [
    "import numpy as np"
   ]
  },
  {
   "cell_type": "markdown",
   "metadata": {},
   "source": [
    "# 1 - 1.25 pt\n",
    "Dado una lista de valores, cree un diccionario cuya clave sea el dato de la lista y el valor sea el resto de la división entre 6. No se deben incluir en el diccionario los valores cuyo resto es igual a cero."
   ]
  },
  {
   "cell_type": "code",
   "execution_count": 2,
   "metadata": {},
   "outputs": [],
   "source": [
    "def dct_items(lst):\n",
    "    return {item: item % 6 for item in lst if item % 6 != 0}"
   ]
  },
  {
   "cell_type": "code",
   "execution_count": 3,
   "metadata": {},
   "outputs": [],
   "source": [
    "ls_val = [30, 23, 7, 39, 55,  5, -4]\n",
    "dc_res = dct_items(ls_val)  # This calls your function\n",
    "dc_solucion = {23: 5, 7: 1, 39: 3, 55: 1, 5: 5, -4: 2}\n",
    "assert(dc_res == dc_solucion), \"Solución incorrecta\""
   ]
  },
  {
   "cell_type": "markdown",
   "metadata": {},
   "source": [
    "# 2 - 1.25 pt\n",
    "Realice con numpy:\n",
    "- Una matriz 4x2 (A) y un vector 4x1 (b) con valores aleatorios\n",
    "- Calcule la inversa de la multiplicación A traspuesta por la misma matriz, multiplíquelo por la matriz traspuesta de A y el vector b: $x =(A^{T}  A)^{-1} A^{T}b$ \n",
    "- Multiplique $x$ por un array de dos valores aleatorios."
   ]
  },
  {
   "cell_type": "code",
   "execution_count": 9,
   "metadata": {},
   "outputs": [
    {
     "name": "stdout",
     "output_type": "stream",
     "text": [
      "[[6 5]\n",
      " [4 8]\n",
      " [8 9]\n",
      " [2 8]]\n",
      "[[2]\n",
      " [4]\n",
      " [8]\n",
      " [3]]\n",
      "[[-32696]\n",
      " [-47228]]\n"
     ]
    }
   ],
   "source": [
    "A = np.random.randint(0, 10, size=(4, 2))\n",
    "b = np.random.randint(0, 10, size=(4, 1))\n",
    "\n",
    "print(A)\n",
    "print(b)\n",
    "\n",
    "x = np.dot(np.invert(np.dot(np.transpose(A), A)), np.dot(np.transpose(A), b))\n",
    "\n",
    "print(x)"
   ]
  },
  {
   "cell_type": "markdown",
   "metadata": {},
   "source": []
  }
 ],
 "metadata": {
  "kernelspec": {
   "display_name": "piavenv",
   "language": "python",
   "name": "python3"
  },
  "language_info": {
   "codemirror_mode": {
    "name": "ipython",
    "version": 3
   },
   "file_extension": ".py",
   "mimetype": "text/x-python",
   "name": "python",
   "nbconvert_exporter": "python",
   "pygments_lexer": "ipython3",
   "version": "3.11.6"
  }
 },
 "nbformat": 4,
 "nbformat_minor": 2
}
