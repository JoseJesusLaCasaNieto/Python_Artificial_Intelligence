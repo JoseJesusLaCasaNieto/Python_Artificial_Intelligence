{
 "cells": [
  {
   "attachments": {},
   "cell_type": "markdown",
   "id": "43115e44-f75d-465a-ad62-9b2be737a6e6",
   "metadata": {},
   "source": [
    "# Examen Primera Convocatoria"
   ]
  },
  {
   "cell_type": "code",
   "execution_count": 4,
   "id": "eb8ba270-b03c-49f8-b092-8de37baa3bfe",
   "metadata": {},
   "outputs": [],
   "source": [
    "# Your imports HERE !!!!\n",
    "import numpy as np\n",
    "import pandas as pd\n",
    "import matplotlib.pyplot as plt\n"
   ]
  },
  {
   "attachments": {},
   "cell_type": "markdown",
   "id": "2206adbd-c8e0-4665-a20b-bb6a1503d388",
   "metadata": {
    "tags": []
   },
   "source": [
    "## 01 - 1 pt\n",
    "- Dado un array de elementos, escribir una función, que reciba dicho array como parámetro de entrada y devuelva el elemento repetido. Usando plain Python, sin ninguna librería."
   ]
  },
  {
   "cell_type": "code",
   "execution_count": 2,
   "id": "3b6d4855-e751-4f45-8382-1291885aef0c",
   "metadata": {},
   "outputs": [],
   "source": [
    "# Your solution HERE !!!!\n",
    "def repeated_element(lst):\n",
    "    elements_viewed = []\n",
    "    for number in lst:\n",
    "        if number in elements_viewed:\n",
    "            return number\n",
    "        else:\n",
    "            elements_viewed.append(number)"
   ]
  },
  {
   "cell_type": "code",
   "execution_count": 3,
   "id": "2aea2527-3332-4d6c-85e3-3553ee358ba1",
   "metadata": {},
   "outputs": [],
   "source": [
    "array_src = [4, 8, 0, 3, 6, 2, 1, 5, 3, 9, 7]\n",
    "expected_rep_element = 3\n",
    "rep_element = repeated_element(array_src) # This calls your function repeated_element\n",
    "assert(expected_rep_element == rep_element)  # This will fail if the element is not found correctly"
   ]
  },
  {
   "cell_type": "code",
   "execution_count": null,
   "id": "cd8404f5",
   "metadata": {},
   "outputs": [],
   "source": []
  },
  {
   "attachments": {},
   "cell_type": "markdown",
   "id": "5161decf-e061-44a9-a413-8d3921a10058",
   "metadata": {
    "tags": []
   },
   "source": [
    "## 02 - 1pt\n",
    "- Genera una matriz con valores aleatorios de 0 a 100 de dimensiones 16x16\n",
    "- Calcula los siguentes estadísticos en la matriz anterior, por fila (el resultado de cada uno debe ser un array de dimensiones 1x16)\n",
    "  - Suma de los elementos de cada fila\n",
    "  - Media de los elementos de cada fila\n",
    "  - Valores mínimos de cada fila\n",
    "  - Valores máximos de cada fila"
   ]
  },
  {
   "cell_type": "code",
   "execution_count": 28,
   "id": "2e7bfe3c-253f-4287-8d85-fb7e5163e6c0",
   "metadata": {},
   "outputs": [
    {
     "name": "stdout",
     "output_type": "stream",
     "text": [
      "[[ 93  22  85  18   6  94  87  50  48  67  53  45  70   9  13  94]\n",
      " [ 68  43  73  59  70 100  54  70  10  43  27  58  23  53  40  46]\n",
      " [  7  54  18  16  93  35  62  47  18  22  49  42  58  98  64  56]\n",
      " [ 44  69  71  59  18  31  58  63   3  54  66  31  75  25  27  61]\n",
      " [ 27  18   7  93  91  80  75  23  27  30  33  99   9  34  23  66]\n",
      " [ 80  92  11  48  24  90  14  49  72  17  20  21  59  52  98  88]\n",
      " [ 16  63  99  85  45  63  28  59   5  96  19  38  78  77  90  88]\n",
      " [ 36  78  22  13  61  36  33  90  56  69  65  49   2  28  93  40]\n",
      " [ 42  97  80   0  25   3  46  56   9  67  95  55  84  23   1  27]\n",
      " [ 31  85  60  49  11   3  66  87  87   6   0  52  20  98  80  48]\n",
      " [ 65  32  22  85  19  22  77  80  93  70   0  86   7  92 100   1]\n",
      " [ 22  56  89  89  88  38  75   1  88  60  59  93  14  72  31  44]\n",
      " [ 16  41   8  27  59  65  36  33  32  45  59  35   5   9  33  92]\n",
      " [  5  83  19  49  27  54   0  84  80  13  37  43  88  26  89  95]\n",
      " [ 96  50  75  20  67  59  73  73  74  10  96   6  94  67  83  10]\n",
      " [ 88   9  59  38   7  26  70   0  99  38  79  16  54  18  57   3]]\n",
      "\n",
      "Suma de las filas: [[854 837 739 755 735 835 949 771 710 783 851 919 595 792 953 661]]\n",
      "Media de las filas: [[53.375  52.3125 46.1875 47.1875 45.9375 52.1875 59.3125 48.1875 44.375\n",
      "  48.9375 53.1875 57.4375 37.1875 49.5    59.5625 41.3125]]\n",
      "Mínimo de cada fila: [[ 6 10  7  3  7 11  5  2  0  0  0  1  5  0  6  0]]\n",
      "Máximo de cada fila: [[ 94 100  98  75  99  98  99  93  97  98 100  93  92  95  96  99]]\n"
     ]
    }
   ],
   "source": [
    "# Your solution HERE !!!!\n",
    "matrix = np.random.randint(0, 101, size=(16, 16))\n",
    "print(matrix)\n",
    "\n",
    "print(f\"\\nSuma de las filas: {np.sum(matrix, axis=1).reshape(1, 16)}\")\n",
    "print(f\"Media de las filas: {np.mean(matrix, axis=1).reshape(1, 16)}\")\n",
    "print(f\"Mínimo de cada fila: {np.min(matrix, axis=1).reshape(1, 16)}\")\n",
    "print(f\"Máximo de cada fila: {np.max(matrix, axis=1).reshape(1, 16)}\")"
   ]
  },
  {
   "cell_type": "code",
   "execution_count": null,
   "id": "428dd3de-73d1-4e93-a545-7106e32e4c4f",
   "metadata": {},
   "outputs": [],
   "source": []
  },
  {
   "attachments": {},
   "cell_type": "markdown",
   "id": "9986c32f-299d-4ce7-809e-db01ee851764",
   "metadata": {
    "tags": []
   },
   "source": [
    "## 03 - 1pt\n",
    "\n",
    "- Generar un dataframe de 3x4 dimensiones con valores númericos aleatorios [0,10]\n",
    "- Darle un índice semántico alfanumérico\n",
    "- Aplicarle una función lambda que obtenga la diferencia entre el máximo y mínimo de cada fila"
   ]
  },
  {
   "cell_type": "code",
   "execution_count": 14,
   "id": "18ff9dbf-9ba4-4513-8a73-d0328b689dc9",
   "metadata": {},
   "outputs": [
    {
     "name": "stdout",
     "output_type": "stream",
     "text": [
      "[[ 8  0  6  4]\n",
      " [ 1  4  5  5]\n",
      " [ 1  0 10  9]]\n",
      "\n"
     ]
    },
    {
     "data": {
      "text/html": [
       "<div>\n",
       "<style scoped>\n",
       "    .dataframe tbody tr th:only-of-type {\n",
       "        vertical-align: middle;\n",
       "    }\n",
       "\n",
       "    .dataframe tbody tr th {\n",
       "        vertical-align: top;\n",
       "    }\n",
       "\n",
       "    .dataframe thead th {\n",
       "        text-align: right;\n",
       "    }\n",
       "</style>\n",
       "<table border=\"1\" class=\"dataframe\">\n",
       "  <thead>\n",
       "    <tr style=\"text-align: right;\">\n",
       "      <th></th>\n",
       "      <th>col1</th>\n",
       "      <th>col2</th>\n",
       "      <th>col3</th>\n",
       "      <th>col4</th>\n",
       "    </tr>\n",
       "  </thead>\n",
       "  <tbody>\n",
       "    <tr>\n",
       "      <th>a</th>\n",
       "      <td>8</td>\n",
       "      <td>0</td>\n",
       "      <td>6</td>\n",
       "      <td>4</td>\n",
       "    </tr>\n",
       "    <tr>\n",
       "      <th>b</th>\n",
       "      <td>1</td>\n",
       "      <td>4</td>\n",
       "      <td>5</td>\n",
       "      <td>5</td>\n",
       "    </tr>\n",
       "    <tr>\n",
       "      <th>c</th>\n",
       "      <td>1</td>\n",
       "      <td>0</td>\n",
       "      <td>10</td>\n",
       "      <td>9</td>\n",
       "    </tr>\n",
       "  </tbody>\n",
       "</table>\n",
       "</div>"
      ],
      "text/plain": [
       "   col1  col2  col3  col4\n",
       "a     8     0     6     4\n",
       "b     1     4     5     5\n",
       "c     1     0    10     9"
      ]
     },
     "metadata": {},
     "output_type": "display_data"
    },
    {
     "name": "stdout",
     "output_type": "stream",
     "text": [
      "\n"
     ]
    },
    {
     "data": {
      "text/plain": [
       "a     8\n",
       "b     4\n",
       "c    10\n",
       "dtype: int32"
      ]
     },
     "metadata": {},
     "output_type": "display_data"
    }
   ],
   "source": [
    "# Your solution HERE !!!!\n",
    "matrix = np.random.randint(0, 11, size=(3, 4))\n",
    "print(matrix)\n",
    "\n",
    "df = pd.DataFrame(matrix, index=['a', 'b', 'c'], columns=['col1', 'col2', 'col3', 'col4'])\n",
    "print()\n",
    "display(df)\n",
    "\n",
    "output_df = df.apply(lambda row: row.max() - row.min(), axis=1)\n",
    "print()\n",
    "display(output_df)"
   ]
  },
  {
   "cell_type": "code",
   "execution_count": null,
   "id": "89bc383d-e779-45e6-bd09-3d759114ec1e",
   "metadata": {},
   "outputs": [],
   "source": []
  },
  {
   "attachments": {},
   "cell_type": "markdown",
   "id": "1dc73e21-7283-4cd5-92e8-3a7e1e70fd02",
   "metadata": {
    "tags": []
   },
   "source": [
    "## 04 - 1pt\n",
    "- Crear un array de NumPy de dimensiones 8x5, con números enteros aleatorios en el rango [-100, 100]\n",
    "- Ejecutar en este orden\n",
    "\n",
    "  1. Reemplazar los valores de todos aquellos números múltiplos de 5 por 100\n",
    "  2. Reemplazar los valores de todos aquellos números múltiplos de 3 por Nan\n",
    "  3. Averiguar cuantos elementos tienen Nan por fila\n",
    "  4. Reemplazar los valores de Nan por 0"
   ]
  },
  {
   "cell_type": "code",
   "execution_count": 27,
   "id": "2fd83be4-8626-4eaa-9ead-6f951d5ebbfb",
   "metadata": {},
   "outputs": [
    {
     "name": "stdout",
     "output_type": "stream",
     "text": [
      "[[ -4  -4  44 -56  54]\n",
      " [  7  28  97 -37 -98]\n",
      " [ 69  80  96  23  43]\n",
      " [ 40 -83  -3 -22  81]\n",
      " [-87  53  -3 -44   6]\n",
      " [-88  85  95 -60  88]\n",
      " [-91 -80 -95  97 -90]\n",
      " [ 76  45 -32 -38 -77]]\n",
      "\n",
      "[[ -4  -4  44 -56  54]\n",
      " [  7  28  97 -37 -98]\n",
      " [ 69 100  96  23  43]\n",
      " [100 -83  -3 -22  81]\n",
      " [-87  53  -3 -44   6]\n",
      " [-88 100 100 100  88]\n",
      " [-91 100 100  97 100]\n",
      " [ 76 100 -32 -38 -77]]\n",
      "\n",
      "[[ -4.  -4.  44. -56.  nan]\n",
      " [  7.  28.  97. -37. -98.]\n",
      " [ nan 100.  nan  23.  43.]\n",
      " [100. -83.  nan -22.  nan]\n",
      " [ nan  53.  nan -44.  nan]\n",
      " [-88. 100. 100. 100.  88.]\n",
      " [-91. 100. 100.  97. 100.]\n",
      " [ 76. 100. -32. -38. -77.]]\n",
      "\n",
      "[1 0 2 2 3 0 0 0]\n",
      "\n",
      "[[ -4.  -4.  44. -56.   0.]\n",
      " [  7.  28.  97. -37. -98.]\n",
      " [  0. 100.   0.  23.  43.]\n",
      " [100. -83.   0. -22.   0.]\n",
      " [  0.  53.   0. -44.   0.]\n",
      " [-88. 100. 100. 100.  88.]\n",
      " [-91. 100. 100.  97. 100.]\n",
      " [ 76. 100. -32. -38. -77.]]\n"
     ]
    }
   ],
   "source": [
    "# Your solution HERE !!!!\n",
    "arr = np.random.randint(-100, 101, size=(8, 5))\n",
    "print(arr)\n",
    "\n",
    "arr = np.where(arr%5==0, 100, arr)\n",
    "print()\n",
    "print(arr)\n",
    "\n",
    "arr = np.where(arr%3==0, np.nan, arr)\n",
    "print()\n",
    "print(arr)\n",
    "\n",
    "print(\"\\n{}\".format(np.isnan(arr).sum(axis=1)))\n",
    "\n",
    "arr = np.where(np.isnan(arr), 0, arr)\n",
    "print()\n",
    "print(arr)"
   ]
  },
  {
   "cell_type": "code",
   "execution_count": null,
   "id": "4dda5c62-acd3-4902-8b6c-7ed9dd0e0ab1",
   "metadata": {},
   "outputs": [],
   "source": []
  },
  {
   "attachments": {},
   "cell_type": "markdown",
   "id": "45fe9b96-168d-4bdc-a472-fb41c9031c0d",
   "metadata": {
    "tags": []
   },
   "source": [
    "## 05 - 1pt\n",
    "- Crear una función que reciba una lista de strings y devuelva una serie de pandas, y convierta el primer y último carácter de la palabra de cada elemento de la serie a mayúsculas"
   ]
  },
  {
   "cell_type": "code",
   "execution_count": 54,
   "id": "b6b5696b-71fd-4dc4-8536-18eb2d69a8fa",
   "metadata": {},
   "outputs": [],
   "source": [
    "# Your solution HERE !!!!\n",
    "def first_last_uppercase(lst):\n",
    "    new_lst = []\n",
    "    for item in lst:\n",
    "        item = item[0].upper() + item[1:-1] + item[-1].upper()\n",
    "        new_lst.append(item)\n",
    "\n",
    "    return pd.Series(new_lst)\n",
    "\n",
    "def first_last_uppercase2(lst):\n",
    "    new_lst = [item[0].upper() + item[1:-1] + item[-1].upper() for item in lst]\n",
    "    return pd.Series(new_lst)\n",
    "\n",
    "def first_last_uppercase3(lst):\n",
    "    input_series = pd.Series(lst)\n",
    "    return input_series.apply(lambda item: item[0].upper() + item[1:-1] + item[-1].upper())"
   ]
  },
  {
   "cell_type": "code",
   "execution_count": 61,
   "id": "dd9a959e-932b-4190-a356-350ce5647df9",
   "metadata": {},
   "outputs": [],
   "source": [
    "languages = ['python', 'php', 'java', 'javascript', 'c++', 'sql']\n",
    "expected_output = pd.Series(['PythoN', 'PhP', 'JavA', 'JavascripT', 'C++', 'SqL'])\n",
    "output = first_last_uppercase(languages)  # This calls your function first_last_uppercase\n",
    "assert(expected_output.equals(output))  # This will fail if the two lists are different"
   ]
  },
  {
   "cell_type": "code",
   "execution_count": 51,
   "id": "37aed2b3-c284-4d0c-adf0-293d98bfbf65",
   "metadata": {},
   "outputs": [
    {
     "data": {
      "text/plain": [
       "0        PythoN\n",
       "1           PhP\n",
       "2          JavA\n",
       "3    JavascripT\n",
       "4           C++\n",
       "5           SqL\n",
       "dtype: object"
      ]
     },
     "execution_count": 51,
     "metadata": {},
     "output_type": "execute_result"
    }
   ],
   "source": []
  },
  {
   "attachments": {},
   "cell_type": "markdown",
   "id": "a6e10a57-8a63-4c16-900e-0278fc80a2eb",
   "metadata": {},
   "source": [
    "## 06 - 3 pt\n",
    "- Adjunto al notebook se puede encontrar un fichero 'ine_paro_exam.csv' que contiene datos del INE referentes al paro en España\n",
    "- Las columnas son las siguientes:\n",
    "  - Sexo, los datos de esa fila se refieren a hombres, mujeres o ambos sexos\n",
    "  - Provincias, los datos de esa fila son totales para todo el pais, o de alguna provincia en particular\n",
    "  - Tasas, que tipo de tasa representa el valor de la fila, es de actividad, paro o empleo\n",
    "  - Periodo, a que periodo de tiempo aplica el dato, año y trimestre\n",
    "  - Total, el dato de la tasa\n",
    "\n",
    "Se pide lo siguiente:\n",
    "  - Cargar los datos en un dataframe de Pandas y analizar los atributos\n",
    "  - ¿Cuantos valores nulos hay por columna? Eliminar las filas que tienen nulo en la columna \"Total\"\n",
    "  - Obtener la media anual de la tasa de paro, para ambos sexos y para el total nacional\n",
    "  - Mostrar un resumen, donde en las filas aparezcan las provincias, y las tres tasas posibles (actividad, paro, empleo) en las columnas (obteniendo la media). Ordenar dicho resumen por la media de la tasa de paro ascendentemente\n",
    "  - Representar graficamente una figura, sobre los datos para el total nacional, de las tres diferentes tasas, cada tasa en una subfigura, de manera que en cada subfigura se represente la evolución por trimestre de cada año (cada año se considera una linea con un color diferente)\n",
    "  - ![logo](plot.png)"
   ]
  },
  {
   "cell_type": "code",
   "execution_count": 4,
   "id": "95b15246-4019-4073-ae6c-6c32321cb5dd",
   "metadata": {},
   "outputs": [],
   "source": [
    "# Your solution HERE !!!!\n"
   ]
  },
  {
   "cell_type": "code",
   "execution_count": null,
   "id": "5f29fc96-9421-4cb6-86fc-638e69285c5d",
   "metadata": {},
   "outputs": [],
   "source": []
  },
  {
   "attachments": {},
   "cell_type": "markdown",
   "id": "d037ca2d-d40e-4fe2-8f9a-8088e927a911",
   "metadata": {
    "tags": []
   },
   "source": [
    "## 07\n",
    "- La serie de Fibonacci es una sucesión de números, en la cual cada número es la suma de los dos anteriores. Los dos primeros son siempre 0 y 1.\n",
    "  - $F_0 = 0$\n",
    "  - $F_1 = 1$\n",
    "  - $F_n = F_{n-1} + F_{n-2}$\n",
    "- Crear un generador infinito de números de Fibonacci."
   ]
  },
  {
   "cell_type": "code",
   "execution_count": 8,
   "id": "8092c7c1-c1c8-4492-b08c-489f8767ed73",
   "metadata": {},
   "outputs": [],
   "source": [
    "# Your solution HERE !!!!\n",
    "def fibonacci_generator():\n",
    "    a, b = 0, 1\n",
    "    while True:\n",
    "        yield a\n",
    "        a, b = b, a+b"
   ]
  },
  {
   "cell_type": "code",
   "execution_count": 10,
   "id": "bfe6b451-d356-4670-91b8-bed73889a589",
   "metadata": {},
   "outputs": [],
   "source": [
    "fibo = [0,1,1,2,3,5,8,13,21,34,55,89,144,233,377,610,987,1597]\n",
    "g = fibonacci_generator()  # This calls tour function fibonacci_generator\n",
    "expected_output = [next(g) for n in range(len(fibo))]\n",
    "assert(fibo == expected_output)  # This will fail if the output is not as expected"
   ]
  },
  {
   "attachments": {},
   "cell_type": "markdown",
   "id": "202c6c38-649d-4991-b118-12e6364d8ab0",
   "metadata": {},
   "source": [
    "## 08 - 1pt\n",
    "- Crear una lista de meses de Enero a Diciembre (eje X)\n",
    "- Generar datos aleatorios para el eje Y, hacerlo 3 veces distintas (Y0, Y1 e Y2)\n",
    "- Representar las 3 secuencias de datos aleatorios en una sola figura usando matplotlib\n",
    "- Añadir una leyenda para poder identificar cada secuencia\n",
    "- Nombrar las 3 secuencias de la siguiente manera (\"Facebook\", \"Twitter\", \"Instagram\")\n",
    "- Añadir un título y nombres a los dos ejes\n",
    "- Añadir una anotación (texto y flecha) a uno de los gráficos"
   ]
  },
  {
   "cell_type": "code",
   "execution_count": 37,
   "id": "b0dfefef-66a5-4804-af34-810fcaf25b5e",
   "metadata": {},
   "outputs": [
    {
     "name": "stdout",
     "output_type": "stream",
     "text": [
      "['Enero', 'Febrero', 'Marzo', 'Abril', 'Mayo', 'Junio', 'Julio', 'Agosto', 'Septiembre', 'Octubre', 'Noviembre', 'Diciembre']\n",
      "[[91 98  6 40 76 52 97 97 62  7  1 24]\n",
      " [63 17 24 85 98 47 33 80 51 27 32 82]\n",
      " [87 90 90  7 72 47 55 60 89 63 94 61]]\n"
     ]
    },
    {
     "data": {
      "image/png": "[encoded data removed]",
      "text/plain": [
       "<Figure size 640x480 with 1 Axes>"
      ]
     },
     "metadata": {},
     "output_type": "display_data"
    }
   ],
   "source": [
    "# Your solution HERE !!!!\n",
    "months = [\"Enero\", \"Febrero\", \"Marzo\", \"Abril\", \"Mayo\", \"Junio\", \"Julio\", \"Agosto\", \"Septiembre\", \"Octubre\", \"Noviembre\", \"Diciembre\"]\n",
    "print(months)\n",
    "\n",
    "data = np.random.randint(0, 101, size=(3, len(months)))\n",
    "print(data)\n",
    "\n",
    "legnd = ['Facebook', 'Twitter', 'Instagram']\n",
    "plt.plot(months, data.T, label=legnd)\n",
    "plt.legend(loc=\"best\")\n",
    "plt.title(\"Actividad en redes sociales por mes\")\n",
    "plt.xlabel(\"Mes\")\n",
    "plt.ylabel(\"Actividad\")\n",
    "\n",
    "max_value = np.max(data[0])\n",
    "max_index = np.argmax(data[0])\n",
    "# Añadir una anotación al punto máximo\n",
    "plt.annotate('Máximo', xy=(months[max_index], max_value), xytext=(months[max_index], max_value + 10),\n",
    "             arrowprops=dict(facecolor='black', arrowstyle='->'))\n",
    "\n",
    "plt.show()"
   ]
  }
 ],
 "metadata": {
  "kernelspec": {
   "display_name": "Python 3 (ipykernel)",
   "language": "python",
   "name": "python3"
  },
  "language_info": {
   "codemirror_mode": {
    "name": "ipython",
    "version": 3
   },
   "file_extension": ".py",
   "mimetype": "text/x-python",
   "name": "python",
   "nbconvert_exporter": "python",
   "pygments_lexer": "ipython3",
   "version": "3.11.6"
  }
 },
 "nbformat": 4,
 "nbformat_minor": 5
}
